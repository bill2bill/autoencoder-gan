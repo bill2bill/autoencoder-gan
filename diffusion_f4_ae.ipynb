{
 "cells": [
  {
   "cell_type": "markdown",
   "metadata": {},
   "source": [
    "# F4 Pre Trained Autoencoders\n",
    "\n",
    "From:\n",
    "\n",
    "- https://github.com/CompVis/latent-diffusion#pretrained-autoencoding-models\n",
    "\n",
    "\n"
   ]
  },
  {
   "cell_type": "markdown",
   "metadata": {},
   "source": [
    "### KL Autoencoder"
   ]
  },
  {
   "cell_type": "code",
   "execution_count": 9,
   "metadata": {},
   "outputs": [],
   "source": [
    "import os\n",
    "import wget\n",
    "import zipfile\n",
    "\n",
    "def download_pre_trained_ae(url, output_dir):\n",
    "    if os.path.exists(output_dir):\n",
    "        print(\"Used cache\")\n",
    "    else:\n",
    "        filename = wget.download(url)\n",
    "\n",
    "        with zipfile.ZipFile(filename, 'r') as zip_ref:\n",
    "            zip_ref.extractall(output_dir)\n",
    "\n",
    "        if os.path.exists(filename):\n",
    "            os.remove(filename)"
   ]
  },
  {
   "cell_type": "code",
   "execution_count": 10,
   "metadata": {},
   "outputs": [
    {
     "name": "stdout",
     "output_type": "stream",
     "text": [
      "Used cache\n"
     ]
    }
   ],
   "source": [
    "output_dir = './pretrained_models/kl-f4'\n",
    "url = \"https://ommer-lab.com/files/latent-diffusion/kl-f4.zip\"\n",
    "\n",
    "download_pre_trained_ae(url, output_dir)"
   ]
  },
  {
   "cell_type": "code",
   "execution_count": 3,
   "metadata": {},
   "outputs": [
    {
     "name": "stdout",
     "output_type": "stream",
     "text": [
      "^C\n",
      "Note: you may need to restart the kernel to use updated packages.\n"
     ]
    }
   ],
   "source": [
    "%pip uninstall taming-transformers"
   ]
  },
  {
   "cell_type": "code",
   "execution_count": 7,
   "metadata": {},
   "outputs": [
    {
     "name": "stderr",
     "output_type": "stream",
     "text": [
      "warning: LF will be replaced by CRLF in .gitmodules.\n",
      "The file will have its original line endings in your working directory\n"
     ]
    }
   ],
   "source": [
    "!git mv taming latent_diffusion_compvis/taming"
   ]
  },
  {
   "cell_type": "code",
   "execution_count": 13,
   "metadata": {},
   "outputs": [],
   "source": [
    "!git log --branches --not --remotes"
   ]
  },
  {
   "cell_type": "code",
   "execution_count": 3,
   "metadata": {},
   "outputs": [
    {
     "name": "stderr",
     "output_type": "stream",
     "text": [
      "fatal: Cannot do soft reset with paths.\n"
     ]
    }
   ],
   "source": [
    "!git reset --soft HEAD~1 3e9a62573568dd4d00ca61c5c3da76c2271d2488"
   ]
  },
  {
   "cell_type": "code",
   "execution_count": 10,
   "metadata": {},
   "outputs": [],
   "source": [
    "!git reset --soft 8e4cee53fcb8d01ec58f85638a2097097399782a"
   ]
  },
  {
   "cell_type": "code",
   "execution_count": 21,
   "metadata": {},
   "outputs": [
    {
     "name": "stdout",
     "output_type": "stream",
     "text": [
      "WARNING: git-filter-branch has a glut of gotchas generating mangled history"
     ]
    },
    {
     "name": "stderr",
     "output_type": "stream",
     "text": [
      "Cannot rewrite branches: You have unstaged changes.\n"
     ]
    },
    {
     "name": "stdout",
     "output_type": "stream",
     "text": [
      "\n",
      "\t rewrites.  Hit Ctrl-C before proceeding to abort, then use an\n",
      "\t alternative filtering tool such as 'git filter-repo'\n",
      "\t (https://github.com/newren/git-filter-repo/) instead.  See the\n",
      "\t filter-branch manual page for more details; to squelch this warning,\n",
      "\t set FILTER_BRANCH_SQUELCH_WARNING=1.\n",
      "Proceeding with filter-branch...\n",
      "\n"
     ]
    }
   ],
   "source": [
    "!git filter-branch --index-filter \"git rm -rf --cached --ignore-unmatch autoencoder/pretrained_models/kl-f4/model.ckpt\" HEAD"
   ]
  },
  {
   "cell_type": "code",
   "execution_count": null,
   "metadata": {},
   "outputs": [],
   "source": [
    "!git filter-branch --index-filter \"git rm -rf --cached --ignore-unmatch autoencoder/kl-f4.zip\" HEAD"
   ]
  },
  {
   "cell_type": "code",
   "execution_count": 22,
   "metadata": {},
   "outputs": [
    {
     "name": "stdout",
     "output_type": "stream",
     "text": [
      "WARNING: git-filter-branch has a glut of gotchas generating mangled history\n",
      "\t rewrites.  Hit Ctrl-C before proceeding to abort, then use an\n",
      "\t alternative filtering tool such as 'git filter-repo'\n",
      "\t (https://github.com/newren/git-filter-repo/) instead.  See the\n",
      "\t filter-branch manual page for more details; to squelch this warning,\n",
      "\t set FILTER_BRANCH_SQUELCH_WARNING=1.\n",
      "Proceeding with filter-branch...\n",
      "\n"
     ]
    },
    {
     "name": "stderr",
     "output_type": "stream",
     "text": [
      "Cannot rewrite branches: You have unstaged changes.\n"
     ]
    }
   ],
   "source": [
    "!git filter-branch --force --index-filter 'git rm --cached --ignore-unmatch autoencoder/kl-f4.zip' --prune-empty --tag-name-filter cat -- --all"
   ]
  },
  {
   "cell_type": "code",
   "execution_count": 23,
   "metadata": {},
   "outputs": [
    {
     "name": "stdout",
     "output_type": "stream",
     "text": [
      "WARNING: git-filter-branch has a glut of gotchas generating mangled history\n",
      "\t rewrites.  Hit Ctrl-C before proceeding to abort, then use an\n",
      "\t alternative filtering tool such as 'git filter-repo'\n",
      "\t (https://github.com/newren/git-filter-repo/) instead.  See the\n",
      "\t filter-branch manual page for more details; to squelch this warning,\n",
      "\t set FILTER_BRANCH_SQUELCH_WARNING=1.\n",
      "Proceeding with filter-branch...\n",
      "\n"
     ]
    },
    {
     "name": "stderr",
     "output_type": "stream",
     "text": [
      "Cannot rewrite branches: You have unstaged changes.\n"
     ]
    }
   ],
   "source": [
    "!git filter-branch --force --index-filter 'git rm --cached --ignore-unmatch autoencoder/pretrained_models/kl-f4/model.ckpt' --prune-empty --tag-name-filter cat -- --all"
   ]
  },
  {
   "cell_type": "code",
   "execution_count": 12,
   "metadata": {},
   "outputs": [],
   "source": [
    "!git add .\n"
   ]
  },
  {
   "cell_type": "code",
   "execution_count": 18,
   "metadata": {},
   "outputs": [
    {
     "name": "stdout",
     "output_type": "stream",
     "text": [
      "Unstaged changes after reset:\n",
      "D\tautoencoder/pretrained_models/kl-f4/model.ckpt\n",
      "M\tdiffusion_f4_ae.ipynb\n",
      "Unstaged changes after reset:\n",
      "D\tautoencoder/kl-f4.zip\n",
      "D\tautoencoder/pretrained_models/kl-f4/model.ckpt\n",
      "M\tdiffusion_f4_ae.ipynb\n"
     ]
    }
   ],
   "source": [
    "!git reset HEAD autoencoder/pretrained_models/kl-f4/model.ckpt\n",
    "!git reset HEAD autoencoder/kl-f4.zip"
   ]
  },
  {
   "cell_type": "code",
   "execution_count": 19,
   "metadata": {},
   "outputs": [
    {
     "name": "stdout",
     "output_type": "stream",
     "text": [
      "rm 'autoencoder/pretrained_models/kl-f4/model.ckpt'\n",
      "rm 'autoencoder/kl-f4.zip'\n"
     ]
    }
   ],
   "source": [
    "!git rm --cached autoencoder/pretrained_models/kl-f4/model.ckpt\n",
    "!git rm --cached autoencoder/kl-f4.zip"
   ]
  },
  {
   "cell_type": "code",
   "execution_count": 11,
   "metadata": {},
   "outputs": [
    {
     "name": "stdout",
     "output_type": "stream",
     "text": [
      "^C\n"
     ]
    }
   ],
   "source": [
    "!git commit --amend "
   ]
  },
  {
   "cell_type": "code",
   "execution_count": null,
   "metadata": {},
   "outputs": [],
   "source": [
    "!git commit --amend "
   ]
  },
  {
   "cell_type": "code",
   "execution_count": 4,
   "metadata": {},
   "outputs": [
    {
     "ename": "ModuleNotFoundError",
     "evalue": "No module named 'ldm'",
     "output_type": "error",
     "traceback": [
      "\u001b[1;31m---------------------------------------------------------------------------\u001b[0m",
      "\u001b[1;31mModuleNotFoundError\u001b[0m                       Traceback (most recent call last)",
      "\u001b[1;32mc:\\Users\\willf\\Documents\\Uni\\Dissertation\\autoencoder-gan\\diffusion_f4_ae.ipynb Cell 7'\u001b[0m in \u001b[0;36m<module>\u001b[1;34m\u001b[0m\n\u001b[1;32m----> <a href='vscode-notebook-cell:/c%3A/Users/willf/Documents/Uni/Dissertation/autoencoder-gan/diffusion_f4_ae.ipynb#ch0000006?line=0'>1</a>\u001b[0m \u001b[39mfrom\u001b[39;00m \u001b[39mlatent_diffusion_compvis\u001b[39;00m\u001b[39m.\u001b[39;00m\u001b[39mldm\u001b[39;00m\u001b[39m.\u001b[39;00m\u001b[39mmodels\u001b[39;00m\u001b[39m.\u001b[39;00m\u001b[39mautoencoder\u001b[39;00m \u001b[39mimport\u001b[39;00m AutoencoderKL\n",
      "File \u001b[1;32mc:\\Users\\willf\\Documents\\Uni\\Dissertation\\autoencoder-gan\\latent_diffusion_compvis\\ldm\\models\\autoencoder.py:8\u001b[0m, in \u001b[0;36m<module>\u001b[1;34m\u001b[0m\n\u001b[0;32m      <a href='file:///c%3A/Users/willf/Documents/Uni/Dissertation/autoencoder-gan/latent_diffusion_compvis/ldm/models/autoencoder.py?line=3'>4</a>\u001b[0m \u001b[39mfrom\u001b[39;00m \u001b[39mcontextlib\u001b[39;00m \u001b[39mimport\u001b[39;00m contextmanager\n\u001b[0;32m      <a href='file:///c%3A/Users/willf/Documents/Uni/Dissertation/autoencoder-gan/latent_diffusion_compvis/ldm/models/autoencoder.py?line=5'>6</a>\u001b[0m \u001b[39mfrom\u001b[39;00m \u001b[39mtaming\u001b[39;00m\u001b[39m.\u001b[39;00m\u001b[39mmodules\u001b[39;00m\u001b[39m.\u001b[39;00m\u001b[39mvqvae\u001b[39;00m\u001b[39m.\u001b[39;00m\u001b[39mquantize\u001b[39;00m \u001b[39mimport\u001b[39;00m VectorQuantizer\n\u001b[1;32m----> <a href='file:///c%3A/Users/willf/Documents/Uni/Dissertation/autoencoder-gan/latent_diffusion_compvis/ldm/models/autoencoder.py?line=7'>8</a>\u001b[0m \u001b[39mfrom\u001b[39;00m \u001b[39mldm\u001b[39;00m\u001b[39m.\u001b[39;00m\u001b[39mmodules\u001b[39;00m\u001b[39m.\u001b[39;00m\u001b[39mdiffusionmodules\u001b[39;00m\u001b[39m.\u001b[39;00m\u001b[39mmodel\u001b[39;00m \u001b[39mimport\u001b[39;00m Encoder, Decoder\n\u001b[0;32m      <a href='file:///c%3A/Users/willf/Documents/Uni/Dissertation/autoencoder-gan/latent_diffusion_compvis/ldm/models/autoencoder.py?line=8'>9</a>\u001b[0m \u001b[39mfrom\u001b[39;00m \u001b[39mldm\u001b[39;00m\u001b[39m.\u001b[39;00m\u001b[39mmodules\u001b[39;00m\u001b[39m.\u001b[39;00m\u001b[39mdistributions\u001b[39;00m\u001b[39m.\u001b[39;00m\u001b[39mdistributions\u001b[39;00m \u001b[39mimport\u001b[39;00m DiagonalGaussianDistribution\n\u001b[0;32m     <a href='file:///c%3A/Users/willf/Documents/Uni/Dissertation/autoencoder-gan/latent_diffusion_compvis/ldm/models/autoencoder.py?line=10'>11</a>\u001b[0m \u001b[39mfrom\u001b[39;00m \u001b[39mldm\u001b[39;00m\u001b[39m.\u001b[39;00m\u001b[39mutil\u001b[39;00m \u001b[39mimport\u001b[39;00m instantiate_from_config\n",
      "\u001b[1;31mModuleNotFoundError\u001b[0m: No module named 'ldm'"
     ]
    }
   ],
   "source": [
    "from latent_diffusion_compvis.ldm.models.autoencoder import AutoencoderKL"
   ]
  },
  {
   "cell_type": "code",
   "execution_count": 13,
   "metadata": {},
   "outputs": [
    {
     "ename": "ImportError",
     "evalue": "cannot import name 'VectorQuantizer2' from 'taming.modules.vqvae.quantize' (c:\\Users\\willf\\AppData\\Local\\Programs\\Python\\Python39\\lib\\site-packages\\taming\\modules\\vqvae\\quantize.py)",
     "output_type": "error",
     "traceback": [
      "\u001b[1;31m---------------------------------------------------------------------------\u001b[0m",
      "\u001b[1;31mImportError\u001b[0m                               Traceback (most recent call last)",
      "\u001b[1;32mc:\\Users\\willf\\Documents\\Uni\\Dissertation\\autoencoder-gan\\diffusion_f4_ae.ipynb Cell 8'\u001b[0m in \u001b[0;36m<module>\u001b[1;34m\u001b[0m\n\u001b[1;32m----> <a href='vscode-notebook-cell:/c%3A/Users/willf/Documents/Uni/Dissertation/autoencoder-gan/diffusion_f4_ae.ipynb#ch0000011?line=0'>1</a>\u001b[0m \u001b[39mfrom\u001b[39;00m \u001b[39mtaming\u001b[39;00m\u001b[39m.\u001b[39;00m\u001b[39mmodules\u001b[39;00m\u001b[39m.\u001b[39;00m\u001b[39mvqvae\u001b[39;00m\u001b[39m.\u001b[39;00m\u001b[39mquantize\u001b[39;00m \u001b[39mimport\u001b[39;00m VectorQuantizer2\n",
      "\u001b[1;31mImportError\u001b[0m: cannot import name 'VectorQuantizer2' from 'taming.modules.vqvae.quantize' (c:\\Users\\willf\\AppData\\Local\\Programs\\Python\\Python39\\lib\\site-packages\\taming\\modules\\vqvae\\quantize.py)"
     ]
    }
   ],
   "source": [
    "from taming.modules.vqvae.quantize import VectorQuantizer2"
   ]
  },
  {
   "cell_type": "code",
   "execution_count": 1,
   "metadata": {},
   "outputs": [
    {
     "ename": "ImportError",
     "evalue": "cannot import name 'VectorQuantizer2' from 'taming.modules.vqvae.quantize' (c:\\Users\\willf\\AppData\\Local\\Programs\\Python\\Python39\\lib\\site-packages\\taming\\modules\\vqvae\\quantize.py)",
     "output_type": "error",
     "traceback": [
      "\u001b[1;31m---------------------------------------------------------------------------\u001b[0m",
      "\u001b[1;31mImportError\u001b[0m                               Traceback (most recent call last)",
      "\u001b[1;32mc:\\Users\\willf\\Documents\\Uni\\Dissertation\\autoencoder-gan\\diffusion_f4_ae.ipynb Cell 9'\u001b[0m in \u001b[0;36m<module>\u001b[1;34m\u001b[0m\n\u001b[1;32m----> <a href='vscode-notebook-cell:/c%3A/Users/willf/Documents/Uni/Dissertation/autoencoder-gan/diffusion_f4_ae.ipynb#ch0000008?line=0'>1</a>\u001b[0m \u001b[39mfrom\u001b[39;00m \u001b[39mtaming\u001b[39;00m\u001b[39m.\u001b[39;00m\u001b[39mmodules\u001b[39;00m\u001b[39m.\u001b[39;00m\u001b[39mvqvae\u001b[39;00m\u001b[39m.\u001b[39;00m\u001b[39mquantize\u001b[39;00m \u001b[39mimport\u001b[39;00m VectorQuantizer2\n",
      "\u001b[1;31mImportError\u001b[0m: cannot import name 'VectorQuantizer2' from 'taming.modules.vqvae.quantize' (c:\\Users\\willf\\AppData\\Local\\Programs\\Python\\Python39\\lib\\site-packages\\taming\\modules\\vqvae\\quantize.py)"
     ]
    }
   ],
   "source": [
    "from taming.modules.vqvae.quantize import VectorQuantizer2"
   ]
  },
  {
   "cell_type": "code",
   "execution_count": null,
   "metadata": {},
   "outputs": [],
   "source": []
  }
 ],
 "metadata": {
  "interpreter": {
   "hash": "259771fb0e24a764efce4fd955c0b099f3a7b4b1af73db6068fac1ad6a526fe6"
  },
  "kernelspec": {
   "display_name": "Python 3.9.10 64-bit",
   "language": "python",
   "name": "python3"
  },
  "language_info": {
   "codemirror_mode": {
    "name": "ipython",
    "version": 3
   },
   "file_extension": ".py",
   "mimetype": "text/x-python",
   "name": "python",
   "nbconvert_exporter": "python",
   "pygments_lexer": "ipython3",
   "version": "3.9.10"
  },
  "orig_nbformat": 4
 },
 "nbformat": 4,
 "nbformat_minor": 2
}
