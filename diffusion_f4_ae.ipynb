{
 "cells": [
  {
   "cell_type": "markdown",
   "metadata": {},
   "source": [
    "# F4 Pre Trained Autoencoders\n",
    "\n",
    "From:\n",
    "\n",
    "- https://github.com/CompVis/latent-diffusion#pretrained-autoencoding-models\n",
    "\n",
    "\n"
   ]
  },
  {
   "cell_type": "code",
   "execution_count": 1,
   "metadata": {},
   "outputs": [
    {
     "name": "stdout",
     "output_type": "stream",
     "text": [
      "total 40\n",
      "-rw-rw-r-- 1 will will  1061 May 13 18:20 LICENSE\n",
      "-rw-rw-r-- 1 will will   876 Jun 20 10:28 README.md\n",
      "-rw-rw-r-- 1 will will 13090 Jun 20 10:58 diffusion_f4_ae.ipynb\n",
      "drwxrwxr-x 2 will will  4096 Jun 20 10:29 latent_diffusion_compvis\n",
      "drwxrwxr-x 5 will will  4096 Jun 20 10:15 misc\n",
      "-rw-rw-r-- 1 will will   499 Jun 20 10:58 requirements.txt\n",
      "drwxrwxr-x 6 will will  4096 Jun  1 11:10 wandb\n"
     ]
    }
   ],
   "source": [
    "!ls -l"
   ]
  },
  {
   "cell_type": "code",
   "execution_count": 2,
   "metadata": {},
   "outputs": [
    {
     "name": "stdout",
     "output_type": "stream",
     "text": [
      "Requirement already satisfied: torch==1.7.0 in /home/will/will/lib/python3.8/site-packages (from -r requirements.txt (line 1)) (1.7.0)\n",
      "Requirement already satisfied: torchvision==0.8.1 in /home/will/will/lib/python3.8/site-packages (from -r requirements.txt (line 2)) (0.8.1)\n",
      "Requirement already satisfied: numpy==1.19.2 in /home/will/will/lib/python3.8/site-packages (from -r requirements.txt (line 3)) (1.19.2)\n",
      "Requirement already satisfied: albumentations==0.4.3 in /home/will/will/lib/python3.8/site-packages (from -r requirements.txt (line 4)) (0.4.3)\n",
      "Requirement already satisfied: opencv-python==4.1.2.30 in /home/will/will/lib/python3.8/site-packages (from -r requirements.txt (line 5)) (4.1.2.30)\n",
      "Requirement already satisfied: pudb==2019.2 in /home/will/will/lib/python3.8/site-packages (from -r requirements.txt (line 6)) (2019.2)\n",
      "Requirement already satisfied: imageio==2.9.0 in /home/will/will/lib/python3.8/site-packages (from -r requirements.txt (line 7)) (2.9.0)\n",
      "Requirement already satisfied: imageio-ffmpeg==0.4.2 in /home/will/will/lib/python3.8/site-packages (from -r requirements.txt (line 8)) (0.4.2)\n",
      "Requirement already satisfied: pytorch-lightning==1.4.2 in /home/will/will/lib/python3.8/site-packages (from -r requirements.txt (line 9)) (1.4.2)\n",
      "Requirement already satisfied: omegaconf==2.1.1 in /home/will/will/lib/python3.8/site-packages (from -r requirements.txt (line 10)) (2.1.1)\n",
      "Requirement already satisfied: test-tube>=0.7.5 in /home/will/will/lib/python3.8/site-packages (from -r requirements.txt (line 11)) (0.7.5)\n",
      "Requirement already satisfied: streamlit>=0.73.1 in /home/will/will/lib/python3.8/site-packages (from -r requirements.txt (line 12)) (1.10.0)\n",
      "Requirement already satisfied: einops==0.3.0 in /home/will/will/lib/python3.8/site-packages (from -r requirements.txt (line 13)) (0.3.0)\n",
      "Requirement already satisfied: torch-fidelity==0.3.0 in /home/will/will/lib/python3.8/site-packages (from -r requirements.txt (line 14)) (0.3.0)\n",
      "Requirement already satisfied: transformers==4.3.1 in /home/will/will/lib/python3.8/site-packages (from -r requirements.txt (line 15)) (4.3.1)\n",
      "Requirement already satisfied: taming-transformers from git+https://github.com/CompVis/taming-transformers.git@master#egg=taming-transformers in /home/will/will/lib/python3.8/site-packages (from -r requirements.txt (line 16)) (0.0.1)\n",
      "Requirement already satisfied: clip from git+https://github.com/openai/CLIP.git@main#egg=clip in /home/will/will/lib/python3.8/site-packages (from -r requirements.txt (line 17)) (1.0)\n",
      "Collecting ldm\n",
      "  Cloning https://github.com/CompVis/latent-diffusion.git (to revision main) to /tmp/pip-install-c3tqlu25/ldm\n",
      "  Running command git clone -q https://github.com/CompVis/latent-diffusion.git /tmp/pip-install-c3tqlu25/ldm\n",
      "\u001b[33m  WARNING: Generating metadata for package ldm produced metadata for project name latent-diffusion. Fix your #egg=ldm fragments.\u001b[0m\n",
      "Collecting wget\n",
      "  Downloading wget-3.2.zip (10 kB)\n",
      "Requirement already satisfied: ipywidgets in /home/will/will/lib/python3.8/site-packages (from -r requirements.txt (line 20)) (7.7.0)\n",
      "Requirement already satisfied: tqdm in /home/will/will/lib/python3.8/site-packages (from -r requirements.txt (line 21)) (4.64.0)\n",
      "Requirement already satisfied: typing-extensions in /home/will/will/lib/python3.8/site-packages (from torch==1.7.0->-r requirements.txt (line 1)) (4.2.0)\n",
      "Requirement already satisfied: future in /home/will/will/lib/python3.8/site-packages (from torch==1.7.0->-r requirements.txt (line 1)) (0.18.2)\n",
      "Requirement already satisfied: dataclasses in /home/will/will/lib/python3.8/site-packages (from torch==1.7.0->-r requirements.txt (line 1)) (0.6)\n",
      "Requirement already satisfied: pillow>=4.1.1 in /home/will/will/lib/python3.8/site-packages (from torchvision==0.8.1->-r requirements.txt (line 2)) (9.1.1)\n",
      "Requirement already satisfied: PyYAML in /home/will/will/lib/python3.8/site-packages (from albumentations==0.4.3->-r requirements.txt (line 4)) (6.0)\n",
      "Requirement already satisfied: imgaug<0.2.7,>=0.2.5 in /home/will/will/lib/python3.8/site-packages (from albumentations==0.4.3->-r requirements.txt (line 4)) (0.2.6)\n",
      "Requirement already satisfied: opencv-python-headless>=4.1.1 in /home/will/will/lib/python3.8/site-packages (from albumentations==0.4.3->-r requirements.txt (line 4)) (4.6.0.66)\n",
      "Requirement already satisfied: scipy in /home/will/will/lib/python3.8/site-packages (from albumentations==0.4.3->-r requirements.txt (line 4)) (1.8.1)\n",
      "Requirement already satisfied: pygments>=1.0 in /home/will/will/lib/python3.8/site-packages (from pudb==2019.2->-r requirements.txt (line 6)) (2.12.0)\n",
      "Requirement already satisfied: urwid>=1.1.1 in /home/will/will/lib/python3.8/site-packages (from pudb==2019.2->-r requirements.txt (line 6)) (2.1.2)\n",
      "Requirement already satisfied: torchmetrics>=0.4.0 in /home/will/will/lib/python3.8/site-packages (from pytorch-lightning==1.4.2->-r requirements.txt (line 9)) (0.9.1)\n",
      "Requirement already satisfied: tensorboard>=2.2.0 in /home/will/will/lib/python3.8/site-packages (from pytorch-lightning==1.4.2->-r requirements.txt (line 9)) (2.9.1)\n",
      "Requirement already satisfied: packaging>=17.0 in /home/will/will/lib/python3.8/site-packages (from pytorch-lightning==1.4.2->-r requirements.txt (line 9)) (21.3)\n",
      "Requirement already satisfied: pyDeprecate==0.3.1 in /home/will/will/lib/python3.8/site-packages (from pytorch-lightning==1.4.2->-r requirements.txt (line 9)) (0.3.1)\n",
      "Requirement already satisfied: fsspec[http]!=2021.06.0,>=2021.05.0 in /home/will/will/lib/python3.8/site-packages (from pytorch-lightning==1.4.2->-r requirements.txt (line 9)) (2022.5.0)\n",
      "Requirement already satisfied: antlr4-python3-runtime==4.8 in /home/will/will/lib/python3.8/site-packages (from omegaconf==2.1.1->-r requirements.txt (line 10)) (4.8)\n",
      "Requirement already satisfied: pandas>=0.20.3 in /home/will/will/lib/python3.8/site-packages (from test-tube>=0.7.5->-r requirements.txt (line 11)) (1.4.2)\n",
      "Requirement already satisfied: python-dateutil in /home/will/will/lib/python3.8/site-packages (from streamlit>=0.73.1->-r requirements.txt (line 12)) (2.8.2)\n",
      "Requirement already satisfied: click>=7.0 in /home/will/will/lib/python3.8/site-packages (from streamlit>=0.73.1->-r requirements.txt (line 12)) (8.1.3)\n",
      "Requirement already satisfied: requests in /home/will/will/lib/python3.8/site-packages (from streamlit>=0.73.1->-r requirements.txt (line 12)) (2.28.0)\n",
      "Requirement already satisfied: altair>=3.2.0 in /home/will/will/lib/python3.8/site-packages (from streamlit>=0.73.1->-r requirements.txt (line 12)) (4.2.0)\n",
      "Requirement already satisfied: pyarrow in /home/will/will/lib/python3.8/site-packages (from streamlit>=0.73.1->-r requirements.txt (line 12)) (8.0.0)\n",
      "Requirement already satisfied: protobuf<4,>=3.12 in /home/will/will/lib/python3.8/site-packages (from streamlit>=0.73.1->-r requirements.txt (line 12)) (3.20.1)\n",
      "Requirement already satisfied: gitpython!=3.1.19 in /home/will/will/lib/python3.8/site-packages (from streamlit>=0.73.1->-r requirements.txt (line 12)) (3.1.27)\n",
      "Requirement already satisfied: toml in /home/will/will/lib/python3.8/site-packages (from streamlit>=0.73.1->-r requirements.txt (line 12)) (0.10.2)\n",
      "Requirement already satisfied: blinker in /home/will/will/lib/python3.8/site-packages (from streamlit>=0.73.1->-r requirements.txt (line 12)) (1.4)\n",
      "Requirement already satisfied: cachetools>=4.0 in /home/will/will/lib/python3.8/site-packages (from streamlit>=0.73.1->-r requirements.txt (line 12)) (5.2.0)\n",
      "Requirement already satisfied: rich in /home/will/will/lib/python3.8/site-packages (from streamlit>=0.73.1->-r requirements.txt (line 12)) (12.4.4)\n",
      "Requirement already satisfied: validators in /home/will/will/lib/python3.8/site-packages (from streamlit>=0.73.1->-r requirements.txt (line 12)) (0.20.0)\n",
      "Requirement already satisfied: pydeck>=0.1.dev5 in /home/will/will/lib/python3.8/site-packages (from streamlit>=0.73.1->-r requirements.txt (line 12)) (0.7.1)\n",
      "Requirement already satisfied: attrs in /home/will/will/lib/python3.8/site-packages (from streamlit>=0.73.1->-r requirements.txt (line 12)) (21.4.0)\n",
      "Requirement already satisfied: watchdog; platform_system != \"Darwin\" in /home/will/will/lib/python3.8/site-packages (from streamlit>=0.73.1->-r requirements.txt (line 12)) (2.1.9)\n",
      "Requirement already satisfied: tzlocal in /home/will/will/lib/python3.8/site-packages (from streamlit>=0.73.1->-r requirements.txt (line 12)) (4.2)\n",
      "Requirement already satisfied: tornado>=5.0 in /home/will/will/lib/python3.8/site-packages (from streamlit>=0.73.1->-r requirements.txt (line 12)) (6.1)\n",
      "Requirement already satisfied: importlib-metadata>=1.4 in /home/will/will/lib/python3.8/site-packages (from streamlit>=0.73.1->-r requirements.txt (line 12)) (4.11.4)\n",
      "Requirement already satisfied: pympler>=0.9 in /home/will/will/lib/python3.8/site-packages (from streamlit>=0.73.1->-r requirements.txt (line 12)) (1.0.1)\n",
      "Requirement already satisfied: semver in /home/will/will/lib/python3.8/site-packages (from streamlit>=0.73.1->-r requirements.txt (line 12)) (2.13.0)\n",
      "Requirement already satisfied: tokenizers<0.11,>=0.10.1 in /home/will/will/lib/python3.8/site-packages (from transformers==4.3.1->-r requirements.txt (line 15)) (0.10.3)\n",
      "Requirement already satisfied: regex!=2019.12.17 in /home/will/will/lib/python3.8/site-packages (from transformers==4.3.1->-r requirements.txt (line 15)) (2022.6.2)\n",
      "Requirement already satisfied: filelock in /home/will/will/lib/python3.8/site-packages (from transformers==4.3.1->-r requirements.txt (line 15)) (3.7.1)\n",
      "Requirement already satisfied: sacremoses in /home/will/will/lib/python3.8/site-packages (from transformers==4.3.1->-r requirements.txt (line 15)) (0.0.53)\n",
      "Requirement already satisfied: ftfy in /home/will/will/lib/python3.8/site-packages (from clip->-r requirements.txt (line 17)) (6.1.1)\n",
      "Requirement already satisfied: widgetsnbextension~=3.6.0 in /home/will/will/lib/python3.8/site-packages (from ipywidgets->-r requirements.txt (line 20)) (3.6.0)\n",
      "Requirement already satisfied: jupyterlab-widgets>=1.0.0; python_version >= \"3.6\" in /home/will/will/lib/python3.8/site-packages (from ipywidgets->-r requirements.txt (line 20)) (1.1.0)\n",
      "Requirement already satisfied: ipykernel>=4.5.1 in /home/will/will/lib/python3.8/site-packages (from ipywidgets->-r requirements.txt (line 20)) (6.15.0)\n",
      "Requirement already satisfied: traitlets>=4.3.1 in /home/will/will/lib/python3.8/site-packages (from ipywidgets->-r requirements.txt (line 20)) (5.3.0)\n",
      "Requirement already satisfied: ipython>=4.0.0; python_version >= \"3.3\" in /home/will/will/lib/python3.8/site-packages (from ipywidgets->-r requirements.txt (line 20)) (8.4.0)\n",
      "Requirement already satisfied: ipython-genutils~=0.2.0 in /home/will/will/lib/python3.8/site-packages (from ipywidgets->-r requirements.txt (line 20)) (0.2.0)\n",
      "Requirement already satisfied: nbformat>=4.2.0 in /home/will/will/lib/python3.8/site-packages (from ipywidgets->-r requirements.txt (line 20)) (5.4.0)\n",
      "Requirement already satisfied: scikit-image>=0.11.0 in /home/will/will/lib/python3.8/site-packages (from imgaug<0.2.7,>=0.2.5->albumentations==0.4.3->-r requirements.txt (line 4)) (0.19.3)\n",
      "Requirement already satisfied: six in /home/will/will/lib/python3.8/site-packages (from imgaug<0.2.7,>=0.2.5->albumentations==0.4.3->-r requirements.txt (line 4)) (1.16.0)\n",
      "Requirement already satisfied: tensorboard-data-server<0.7.0,>=0.6.0 in /home/will/will/lib/python3.8/site-packages (from tensorboard>=2.2.0->pytorch-lightning==1.4.2->-r requirements.txt (line 9)) (0.6.1)\n",
      "Requirement already satisfied: setuptools>=41.0.0 in /home/will/will/lib/python3.8/site-packages (from tensorboard>=2.2.0->pytorch-lightning==1.4.2->-r requirements.txt (line 9)) (44.0.0)\n",
      "Requirement already satisfied: werkzeug>=1.0.1 in /home/will/will/lib/python3.8/site-packages (from tensorboard>=2.2.0->pytorch-lightning==1.4.2->-r requirements.txt (line 9)) (2.1.2)\n",
      "Requirement already satisfied: wheel>=0.26 in /home/will/will/lib/python3.8/site-packages (from tensorboard>=2.2.0->pytorch-lightning==1.4.2->-r requirements.txt (line 9)) (0.37.1)\n",
      "Requirement already satisfied: markdown>=2.6.8 in /home/will/will/lib/python3.8/site-packages (from tensorboard>=2.2.0->pytorch-lightning==1.4.2->-r requirements.txt (line 9)) (3.3.7)\n",
      "Requirement already satisfied: grpcio>=1.24.3 in /home/will/will/lib/python3.8/site-packages (from tensorboard>=2.2.0->pytorch-lightning==1.4.2->-r requirements.txt (line 9)) (1.46.3)\n",
      "Requirement already satisfied: google-auth-oauthlib<0.5,>=0.4.1 in /home/will/will/lib/python3.8/site-packages (from tensorboard>=2.2.0->pytorch-lightning==1.4.2->-r requirements.txt (line 9)) (0.4.6)\n",
      "Requirement already satisfied: google-auth<3,>=1.6.3 in /home/will/will/lib/python3.8/site-packages (from tensorboard>=2.2.0->pytorch-lightning==1.4.2->-r requirements.txt (line 9)) (2.8.0)\n",
      "Requirement already satisfied: tensorboard-plugin-wit>=1.6.0 in /home/will/will/lib/python3.8/site-packages (from tensorboard>=2.2.0->pytorch-lightning==1.4.2->-r requirements.txt (line 9)) (1.8.1)\n",
      "Requirement already satisfied: absl-py>=0.4 in /home/will/will/lib/python3.8/site-packages (from tensorboard>=2.2.0->pytorch-lightning==1.4.2->-r requirements.txt (line 9)) (1.1.0)\n",
      "Requirement already satisfied: pyparsing!=3.0.5,>=2.0.2 in /home/will/will/lib/python3.8/site-packages (from packaging>=17.0->pytorch-lightning==1.4.2->-r requirements.txt (line 9)) (3.0.9)\n",
      "Requirement already satisfied: aiohttp; extra == \"http\" in /home/will/will/lib/python3.8/site-packages (from fsspec[http]!=2021.06.0,>=2021.05.0->pytorch-lightning==1.4.2->-r requirements.txt (line 9)) (3.8.1)\n",
      "Requirement already satisfied: pytz>=2020.1 in /home/will/will/lib/python3.8/site-packages (from pandas>=0.20.3->test-tube>=0.7.5->-r requirements.txt (line 11)) (2022.1)\n",
      "Requirement already satisfied: certifi>=2017.4.17 in /home/will/will/lib/python3.8/site-packages (from requests->streamlit>=0.73.1->-r requirements.txt (line 12)) (2022.6.15)\n",
      "Requirement already satisfied: idna<4,>=2.5 in /home/will/will/lib/python3.8/site-packages (from requests->streamlit>=0.73.1->-r requirements.txt (line 12)) (3.3)\n",
      "Requirement already satisfied: urllib3<1.27,>=1.21.1 in /home/will/will/lib/python3.8/site-packages (from requests->streamlit>=0.73.1->-r requirements.txt (line 12)) (1.26.9)\n",
      "Requirement already satisfied: charset-normalizer~=2.0.0 in /home/will/will/lib/python3.8/site-packages (from requests->streamlit>=0.73.1->-r requirements.txt (line 12)) (2.0.12)\n",
      "Requirement already satisfied: jinja2 in /home/will/will/lib/python3.8/site-packages (from altair>=3.2.0->streamlit>=0.73.1->-r requirements.txt (line 12)) (3.1.2)\n",
      "Requirement already satisfied: toolz in /home/will/will/lib/python3.8/site-packages (from altair>=3.2.0->streamlit>=0.73.1->-r requirements.txt (line 12)) (0.11.2)\n",
      "Requirement already satisfied: jsonschema>=3.0 in /home/will/will/lib/python3.8/site-packages (from altair>=3.2.0->streamlit>=0.73.1->-r requirements.txt (line 12)) (4.6.0)\n",
      "Requirement already satisfied: entrypoints in /home/will/will/lib/python3.8/site-packages (from altair>=3.2.0->streamlit>=0.73.1->-r requirements.txt (line 12)) (0.4)\n",
      "Requirement already satisfied: gitdb<5,>=4.0.1 in /home/will/will/lib/python3.8/site-packages (from gitpython!=3.1.19->streamlit>=0.73.1->-r requirements.txt (line 12)) (4.0.9)\n",
      "Requirement already satisfied: commonmark<0.10.0,>=0.9.0 in /home/will/will/lib/python3.8/site-packages (from rich->streamlit>=0.73.1->-r requirements.txt (line 12)) (0.9.1)\n",
      "Requirement already satisfied: decorator>=3.4.0 in /home/will/will/lib/python3.8/site-packages (from validators->streamlit>=0.73.1->-r requirements.txt (line 12)) (5.1.1)\n",
      "Requirement already satisfied: backports.zoneinfo; python_version < \"3.9\" in /home/will/will/lib/python3.8/site-packages (from tzlocal->streamlit>=0.73.1->-r requirements.txt (line 12)) (0.2.1)\n",
      "Requirement already satisfied: pytz-deprecation-shim in /home/will/will/lib/python3.8/site-packages (from tzlocal->streamlit>=0.73.1->-r requirements.txt (line 12)) (0.1.0.post0)\n",
      "Requirement already satisfied: zipp>=0.5 in /home/will/will/lib/python3.8/site-packages (from importlib-metadata>=1.4->streamlit>=0.73.1->-r requirements.txt (line 12)) (3.8.0)\n",
      "Requirement already satisfied: joblib in /home/will/will/lib/python3.8/site-packages (from sacremoses->transformers==4.3.1->-r requirements.txt (line 15)) (1.1.0)\n",
      "Requirement already satisfied: wcwidth>=0.2.5 in /home/will/will/lib/python3.8/site-packages (from ftfy->clip->-r requirements.txt (line 17)) (0.2.5)\n",
      "Requirement already satisfied: notebook>=4.4.1 in /home/will/will/lib/python3.8/site-packages (from widgetsnbextension~=3.6.0->ipywidgets->-r requirements.txt (line 20)) (6.4.12)\n",
      "Requirement already satisfied: pyzmq>=17 in /home/will/will/lib/python3.8/site-packages (from ipykernel>=4.5.1->ipywidgets->-r requirements.txt (line 20)) (23.2.0)\n",
      "Requirement already satisfied: psutil in /home/will/will/lib/python3.8/site-packages (from ipykernel>=4.5.1->ipywidgets->-r requirements.txt (line 20)) (5.9.1)\n",
      "Requirement already satisfied: matplotlib-inline>=0.1 in /home/will/will/lib/python3.8/site-packages (from ipykernel>=4.5.1->ipywidgets->-r requirements.txt (line 20)) (0.1.3)\n",
      "Requirement already satisfied: nest-asyncio in /home/will/will/lib/python3.8/site-packages (from ipykernel>=4.5.1->ipywidgets->-r requirements.txt (line 20)) (1.5.5)\n",
      "Requirement already satisfied: debugpy>=1.0 in /home/will/will/lib/python3.8/site-packages (from ipykernel>=4.5.1->ipywidgets->-r requirements.txt (line 20)) (1.6.0)\n",
      "Requirement already satisfied: jupyter-client>=6.1.12 in /home/will/will/lib/python3.8/site-packages (from ipykernel>=4.5.1->ipywidgets->-r requirements.txt (line 20)) (7.3.4)\n",
      "Requirement already satisfied: backcall in /home/will/will/lib/python3.8/site-packages (from ipython>=4.0.0; python_version >= \"3.3\"->ipywidgets->-r requirements.txt (line 20)) (0.2.0)\n",
      "Requirement already satisfied: stack-data in /home/will/will/lib/python3.8/site-packages (from ipython>=4.0.0; python_version >= \"3.3\"->ipywidgets->-r requirements.txt (line 20)) (0.3.0)\n",
      "Requirement already satisfied: pickleshare in /home/will/will/lib/python3.8/site-packages (from ipython>=4.0.0; python_version >= \"3.3\"->ipywidgets->-r requirements.txt (line 20)) (0.7.5)\n",
      "Requirement already satisfied: prompt-toolkit!=3.0.0,!=3.0.1,<3.1.0,>=2.0.0 in /home/will/will/lib/python3.8/site-packages (from ipython>=4.0.0; python_version >= \"3.3\"->ipywidgets->-r requirements.txt (line 20)) (3.0.29)\n",
      "Requirement already satisfied: pexpect>4.3; sys_platform != \"win32\" in /home/will/will/lib/python3.8/site-packages (from ipython>=4.0.0; python_version >= \"3.3\"->ipywidgets->-r requirements.txt (line 20)) (4.8.0)\n",
      "Requirement already satisfied: jedi>=0.16 in /home/will/will/lib/python3.8/site-packages (from ipython>=4.0.0; python_version >= \"3.3\"->ipywidgets->-r requirements.txt (line 20)) (0.18.1)\n",
      "Requirement already satisfied: jupyter-core in /home/will/will/lib/python3.8/site-packages (from nbformat>=4.2.0->ipywidgets->-r requirements.txt (line 20)) (4.10.0)\n",
      "Requirement already satisfied: fastjsonschema in /home/will/will/lib/python3.8/site-packages (from nbformat>=4.2.0->ipywidgets->-r requirements.txt (line 20)) (2.15.3)\n",
      "Requirement already satisfied: tifffile>=2019.7.26 in /home/will/will/lib/python3.8/site-packages (from scikit-image>=0.11.0->imgaug<0.2.7,>=0.2.5->albumentations==0.4.3->-r requirements.txt (line 4)) (2022.5.4)\n",
      "Requirement already satisfied: networkx>=2.2 in /home/will/will/lib/python3.8/site-packages (from scikit-image>=0.11.0->imgaug<0.2.7,>=0.2.5->albumentations==0.4.3->-r requirements.txt (line 4)) (2.8.4)\n",
      "Requirement already satisfied: PyWavelets>=1.1.1 in /home/will/will/lib/python3.8/site-packages (from scikit-image>=0.11.0->imgaug<0.2.7,>=0.2.5->albumentations==0.4.3->-r requirements.txt (line 4)) (1.3.0)\n",
      "Requirement already satisfied: requests-oauthlib>=0.7.0 in /home/will/will/lib/python3.8/site-packages (from google-auth-oauthlib<0.5,>=0.4.1->tensorboard>=2.2.0->pytorch-lightning==1.4.2->-r requirements.txt (line 9)) (1.3.1)\n",
      "Requirement already satisfied: pyasn1-modules>=0.2.1 in /home/will/will/lib/python3.8/site-packages (from google-auth<3,>=1.6.3->tensorboard>=2.2.0->pytorch-lightning==1.4.2->-r requirements.txt (line 9)) (0.2.8)\n",
      "Requirement already satisfied: rsa<5,>=3.1.4; python_version >= \"3.6\" in /home/will/will/lib/python3.8/site-packages (from google-auth<3,>=1.6.3->tensorboard>=2.2.0->pytorch-lightning==1.4.2->-r requirements.txt (line 9)) (4.8)\n",
      "Requirement already satisfied: yarl<2.0,>=1.0 in /home/will/will/lib/python3.8/site-packages (from aiohttp; extra == \"http\"->fsspec[http]!=2021.06.0,>=2021.05.0->pytorch-lightning==1.4.2->-r requirements.txt (line 9)) (1.7.2)\n",
      "Requirement already satisfied: frozenlist>=1.1.1 in /home/will/will/lib/python3.8/site-packages (from aiohttp; extra == \"http\"->fsspec[http]!=2021.06.0,>=2021.05.0->pytorch-lightning==1.4.2->-r requirements.txt (line 9)) (1.3.0)\n",
      "Requirement already satisfied: aiosignal>=1.1.2 in /home/will/will/lib/python3.8/site-packages (from aiohttp; extra == \"http\"->fsspec[http]!=2021.06.0,>=2021.05.0->pytorch-lightning==1.4.2->-r requirements.txt (line 9)) (1.2.0)\n",
      "Requirement already satisfied: async-timeout<5.0,>=4.0.0a3 in /home/will/will/lib/python3.8/site-packages (from aiohttp; extra == \"http\"->fsspec[http]!=2021.06.0,>=2021.05.0->pytorch-lightning==1.4.2->-r requirements.txt (line 9)) (4.0.2)\n",
      "Requirement already satisfied: multidict<7.0,>=4.5 in /home/will/will/lib/python3.8/site-packages (from aiohttp; extra == \"http\"->fsspec[http]!=2021.06.0,>=2021.05.0->pytorch-lightning==1.4.2->-r requirements.txt (line 9)) (6.0.2)\n",
      "Requirement already satisfied: MarkupSafe>=2.0 in /home/will/will/lib/python3.8/site-packages (from jinja2->altair>=3.2.0->streamlit>=0.73.1->-r requirements.txt (line 12)) (2.1.1)\n",
      "Requirement already satisfied: importlib-resources>=1.4.0; python_version < \"3.9\" in /home/will/will/lib/python3.8/site-packages (from jsonschema>=3.0->altair>=3.2.0->streamlit>=0.73.1->-r requirements.txt (line 12)) (5.8.0)\n",
      "Requirement already satisfied: pyrsistent!=0.17.0,!=0.17.1,!=0.17.2,>=0.14.0 in /home/will/will/lib/python3.8/site-packages (from jsonschema>=3.0->altair>=3.2.0->streamlit>=0.73.1->-r requirements.txt (line 12)) (0.18.1)\n",
      "Requirement already satisfied: smmap<6,>=3.0.1 in /home/will/will/lib/python3.8/site-packages (from gitdb<5,>=4.0.1->gitpython!=3.1.19->streamlit>=0.73.1->-r requirements.txt (line 12)) (5.0.0)\n",
      "Requirement already satisfied: tzdata; python_version >= \"3.6\" in /home/will/will/lib/python3.8/site-packages (from pytz-deprecation-shim->tzlocal->streamlit>=0.73.1->-r requirements.txt (line 12)) (2022.1)\n",
      "Requirement already satisfied: argon2-cffi in /home/will/will/lib/python3.8/site-packages (from notebook>=4.4.1->widgetsnbextension~=3.6.0->ipywidgets->-r requirements.txt (line 20)) (21.3.0)\n",
      "Requirement already satisfied: nbconvert>=5 in /home/will/will/lib/python3.8/site-packages (from notebook>=4.4.1->widgetsnbextension~=3.6.0->ipywidgets->-r requirements.txt (line 20)) (6.5.0)\n",
      "Requirement already satisfied: terminado>=0.8.3 in /home/will/will/lib/python3.8/site-packages (from notebook>=4.4.1->widgetsnbextension~=3.6.0->ipywidgets->-r requirements.txt (line 20)) (0.15.0)\n",
      "Requirement already satisfied: prometheus-client in /home/will/will/lib/python3.8/site-packages (from notebook>=4.4.1->widgetsnbextension~=3.6.0->ipywidgets->-r requirements.txt (line 20)) (0.14.1)\n",
      "Requirement already satisfied: Send2Trash>=1.8.0 in /home/will/will/lib/python3.8/site-packages (from notebook>=4.4.1->widgetsnbextension~=3.6.0->ipywidgets->-r requirements.txt (line 20)) (1.8.0)\n",
      "Requirement already satisfied: asttokens in /home/will/will/lib/python3.8/site-packages (from stack-data->ipython>=4.0.0; python_version >= \"3.3\"->ipywidgets->-r requirements.txt (line 20)) (2.0.5)\n",
      "Requirement already satisfied: pure-eval in /home/will/will/lib/python3.8/site-packages (from stack-data->ipython>=4.0.0; python_version >= \"3.3\"->ipywidgets->-r requirements.txt (line 20)) (0.2.2)\n",
      "Requirement already satisfied: executing in /home/will/will/lib/python3.8/site-packages (from stack-data->ipython>=4.0.0; python_version >= \"3.3\"->ipywidgets->-r requirements.txt (line 20)) (0.8.3)\n",
      "Requirement already satisfied: ptyprocess>=0.5 in /home/will/will/lib/python3.8/site-packages (from pexpect>4.3; sys_platform != \"win32\"->ipython>=4.0.0; python_version >= \"3.3\"->ipywidgets->-r requirements.txt (line 20)) (0.7.0)\n",
      "Requirement already satisfied: parso<0.9.0,>=0.8.0 in /home/will/will/lib/python3.8/site-packages (from jedi>=0.16->ipython>=4.0.0; python_version >= \"3.3\"->ipywidgets->-r requirements.txt (line 20)) (0.8.3)\n",
      "Requirement already satisfied: oauthlib>=3.0.0 in /home/will/will/lib/python3.8/site-packages (from requests-oauthlib>=0.7.0->google-auth-oauthlib<0.5,>=0.4.1->tensorboard>=2.2.0->pytorch-lightning==1.4.2->-r requirements.txt (line 9)) (3.2.0)\n",
      "Requirement already satisfied: pyasn1<0.5.0,>=0.4.6 in /home/will/will/lib/python3.8/site-packages (from pyasn1-modules>=0.2.1->google-auth<3,>=1.6.3->tensorboard>=2.2.0->pytorch-lightning==1.4.2->-r requirements.txt (line 9)) (0.4.8)\n",
      "Requirement already satisfied: argon2-cffi-bindings in /home/will/will/lib/python3.8/site-packages (from argon2-cffi->notebook>=4.4.1->widgetsnbextension~=3.6.0->ipywidgets->-r requirements.txt (line 20)) (21.2.0)\n",
      "Requirement already satisfied: bleach in /home/will/will/lib/python3.8/site-packages (from nbconvert>=5->notebook>=4.4.1->widgetsnbextension~=3.6.0->ipywidgets->-r requirements.txt (line 20)) (5.0.0)\n",
      "Requirement already satisfied: tinycss2 in /home/will/will/lib/python3.8/site-packages (from nbconvert>=5->notebook>=4.4.1->widgetsnbextension~=3.6.0->ipywidgets->-r requirements.txt (line 20)) (1.1.1)\n",
      "Requirement already satisfied: jupyterlab-pygments in /home/will/will/lib/python3.8/site-packages (from nbconvert>=5->notebook>=4.4.1->widgetsnbextension~=3.6.0->ipywidgets->-r requirements.txt (line 20)) (0.2.2)\n",
      "Requirement already satisfied: mistune<2,>=0.8.1 in /home/will/will/lib/python3.8/site-packages (from nbconvert>=5->notebook>=4.4.1->widgetsnbextension~=3.6.0->ipywidgets->-r requirements.txt (line 20)) (0.8.4)\n",
      "Requirement already satisfied: defusedxml in /home/will/will/lib/python3.8/site-packages (from nbconvert>=5->notebook>=4.4.1->widgetsnbextension~=3.6.0->ipywidgets->-r requirements.txt (line 20)) (0.7.1)\n",
      "Requirement already satisfied: nbclient>=0.5.0 in /home/will/will/lib/python3.8/site-packages (from nbconvert>=5->notebook>=4.4.1->widgetsnbextension~=3.6.0->ipywidgets->-r requirements.txt (line 20)) (0.6.4)\n",
      "Requirement already satisfied: beautifulsoup4 in /home/will/will/lib/python3.8/site-packages (from nbconvert>=5->notebook>=4.4.1->widgetsnbextension~=3.6.0->ipywidgets->-r requirements.txt (line 20)) (4.11.1)\n",
      "Requirement already satisfied: pandocfilters>=1.4.1 in /home/will/will/lib/python3.8/site-packages (from nbconvert>=5->notebook>=4.4.1->widgetsnbextension~=3.6.0->ipywidgets->-r requirements.txt (line 20)) (1.5.0)\n",
      "Requirement already satisfied: cffi>=1.0.1 in /home/will/will/lib/python3.8/site-packages (from argon2-cffi-bindings->argon2-cffi->notebook>=4.4.1->widgetsnbextension~=3.6.0->ipywidgets->-r requirements.txt (line 20)) (1.15.0)\n",
      "Requirement already satisfied: webencodings in /home/will/will/lib/python3.8/site-packages (from bleach->nbconvert>=5->notebook>=4.4.1->widgetsnbextension~=3.6.0->ipywidgets->-r requirements.txt (line 20)) (0.5.1)\n",
      "Requirement already satisfied: soupsieve>1.2 in /home/will/will/lib/python3.8/site-packages (from beautifulsoup4->nbconvert>=5->notebook>=4.4.1->widgetsnbextension~=3.6.0->ipywidgets->-r requirements.txt (line 20)) (2.3.2.post1)\n",
      "Requirement already satisfied: pycparser in /home/will/will/lib/python3.8/site-packages (from cffi>=1.0.1->argon2-cffi-bindings->argon2-cffi->notebook>=4.4.1->widgetsnbextension~=3.6.0->ipywidgets->-r requirements.txt (line 20)) (2.21)\n",
      "Building wheels for collected packages: latent-diffusion, wget, latent-diffusion\n",
      "  Building wheel for latent-diffusion (setup.py) ... \u001b[?25ldone\n",
      "\u001b[?25h  Created wheel for latent-diffusion: filename=latent_diffusion-0.0.1-py3-none-any.whl size=1950 sha256=68b9003a993518f99a5e0cd087fa4dcd4c82f89facdbabe44ec09766a103bc89\n",
      "  Stored in directory: /tmp/pip-ephem-wheel-cache-qxa3p80v/wheels/0d/95/a1/3e92a15ef32daed6dd82c8132888164a9cf1ccbf0645337894\n",
      "  Building wheel for wget (setup.py) ... \u001b[?25ldone\n",
      "\u001b[?25h  Created wheel for wget: filename=wget-3.2-py3-none-any.whl size=9682 sha256=7f2e12797e89f76f548c0938dcd34ecc93aa8da1ce5c6b82eab9ac8faffe5788\n",
      "  Stored in directory: /home/will/.cache/pip/wheels/bd/a8/c3/3cf2c14a1837a4e04bd98631724e81f33f462d86a1d895fae0\n",
      "  Building wheel for latent-diffusion (setup.py) ... \u001b[?25ldone\n",
      "\u001b[?25h  Created wheel for latent-diffusion: filename=latent_diffusion-0.0.1-py3-none-any.whl size=1950 sha256=68b9003a993518f99a5e0cd087fa4dcd4c82f89facdbabe44ec09766a103bc89\n",
      "  Stored in directory: /tmp/pip-ephem-wheel-cache-qxa3p80v/wheels/2e/93/40/51fb3f35eb94c065b38e9721fd06b17b535626c9758a3f7594\n",
      "Successfully built latent-diffusion wget latent-diffusion\n",
      "Installing collected packages: latent-diffusion, wget\n",
      "Successfully installed latent-diffusion-0.0.1 wget-3.2\n"
     ]
    }
   ],
   "source": [
    "!pip install -r requirements.txt"
   ]
  },
  {
   "cell_type": "code",
   "execution_count": 22,
   "metadata": {},
   "outputs": [
    {
     "name": "stdout",
     "output_type": "stream",
     "text": [
      "Requirement already satisfied: taming-transformers from git+https://github.com/CompVis/taming-transformers.git@master#egg=taming-transformers in /home/will/will/lib/python3.8/site-packages (0.0.1)\n",
      "Requirement already satisfied: numpy in /home/will/will/lib/python3.8/site-packages (from taming-transformers) (1.19.2)\n",
      "Requirement already satisfied: torch in /home/will/will/lib/python3.8/site-packages (from taming-transformers) (1.7.0)\n",
      "Requirement already satisfied: tqdm in /home/will/will/lib/python3.8/site-packages (from taming-transformers) (4.64.0)\n",
      "Requirement already satisfied: typing-extensions in /home/will/will/lib/python3.8/site-packages (from torch->taming-transformers) (4.2.0)\n",
      "Requirement already satisfied: dataclasses in /home/will/will/lib/python3.8/site-packages (from torch->taming-transformers) (0.6)\n",
      "Requirement already satisfied: future in /home/will/will/lib/python3.8/site-packages (from torch->taming-transformers) (0.18.2)\n"
     ]
    }
   ],
   "source": [
    "!pip install git+https://github.com/CompVis/taming-transformers.git@master#egg=taming-transformers"
   ]
  },
  {
   "cell_type": "code",
   "execution_count": 4,
   "metadata": {},
   "outputs": [
    {
     "ename": "ModuleNotFoundError",
     "evalue": "No module named 'latent_diffusion'",
     "output_type": "error",
     "traceback": [
      "\u001b[0;31m---------------------------------------------------------------------------\u001b[0m",
      "\u001b[0;31mModuleNotFoundError\u001b[0m                       Traceback (most recent call last)",
      "\u001b[0;32m<ipython-input-4-9e791cf1b31c>\u001b[0m in \u001b[0;36m<module>\u001b[0;34m\u001b[0m\n\u001b[0;32m----> 1\u001b[0;31m \u001b[0;32mfrom\u001b[0m \u001b[0mlatent_diffusion\u001b[0m\u001b[0;34m.\u001b[0m\u001b[0mmodels\u001b[0m\u001b[0;34m.\u001b[0m\u001b[0mautoencoder\u001b[0m \u001b[0;32mimport\u001b[0m \u001b[0mAutoencoderKL\u001b[0m\u001b[0;34m\u001b[0m\u001b[0;34m\u001b[0m\u001b[0m\n\u001b[0m",
      "\u001b[0;31mModuleNotFoundError\u001b[0m: No module named 'latent_diffusion'"
     ]
    }
   ],
   "source": [
    "from latent_diffusion.models.autoencoder import AutoencoderKL"
   ]
  },
  {
   "cell_type": "markdown",
   "metadata": {},
   "source": [
    "### KL Autoencoder"
   ]
  },
  {
   "cell_type": "code",
   "execution_count": 12,
   "metadata": {},
   "outputs": [
    {
     "ename": "ModuleNotFoundError",
     "evalue": "No module named 'wget'",
     "output_type": "error",
     "traceback": [
      "\u001b[0;31m---------------------------------------------------------------------------\u001b[0m",
      "\u001b[0;31mModuleNotFoundError\u001b[0m                       Traceback (most recent call last)",
      "\u001b[0;32m<ipython-input-12-97087ff0bb24>\u001b[0m in \u001b[0;36m<module>\u001b[0;34m\u001b[0m\n\u001b[1;32m      1\u001b[0m \u001b[0;32mimport\u001b[0m \u001b[0mos\u001b[0m\u001b[0;34m\u001b[0m\u001b[0;34m\u001b[0m\u001b[0m\n\u001b[0;32m----> 2\u001b[0;31m \u001b[0;32mimport\u001b[0m \u001b[0mwget\u001b[0m\u001b[0;34m\u001b[0m\u001b[0;34m\u001b[0m\u001b[0m\n\u001b[0m\u001b[1;32m      3\u001b[0m \u001b[0;32mimport\u001b[0m \u001b[0mzipfile\u001b[0m\u001b[0;34m\u001b[0m\u001b[0;34m\u001b[0m\u001b[0m\n\u001b[1;32m      4\u001b[0m \u001b[0;34m\u001b[0m\u001b[0m\n\u001b[1;32m      5\u001b[0m \u001b[0;32mdef\u001b[0m \u001b[0mdownload_pre_trained_ae\u001b[0m\u001b[0;34m(\u001b[0m\u001b[0murl\u001b[0m\u001b[0;34m,\u001b[0m \u001b[0moutput_dir\u001b[0m\u001b[0;34m)\u001b[0m\u001b[0;34m:\u001b[0m\u001b[0;34m\u001b[0m\u001b[0;34m\u001b[0m\u001b[0m\n",
      "\u001b[0;31mModuleNotFoundError\u001b[0m: No module named 'wget'"
     ]
    }
   ],
   "source": [
    "import os\n",
    "import wget\n",
    "import zipfile\n",
    "\n",
    "def download_pre_trained_ae(url, output_dir):\n",
    "    if os.path.exists(output_dir):\n",
    "        print(\"Used cache\")\n",
    "    else:\n",
    "        filename = wget.download(url)\n",
    "\n",
    "        with zipfile.ZipFile(filename, 'r') as zip_ref:\n",
    "            zip_ref.extractall(output_dir)\n",
    "\n",
    "        if os.path.exists(filename):\n",
    "            os.remove(filename)"
   ]
  },
  {
   "cell_type": "code",
   "execution_count": 13,
   "metadata": {},
   "outputs": [
    {
     "ename": "ModuleNotFoundError",
     "evalue": "No module named 'latent_diffusion_compvis.ldm'",
     "output_type": "error",
     "traceback": [
      "\u001b[0;31m---------------------------------------------------------------------------\u001b[0m",
      "\u001b[0;31mModuleNotFoundError\u001b[0m                       Traceback (most recent call last)",
      "\u001b[0;32m<ipython-input-13-6814e58b48f8>\u001b[0m in \u001b[0;36m<module>\u001b[0;34m\u001b[0m\n\u001b[0;32m----> 1\u001b[0;31m \u001b[0;32mfrom\u001b[0m \u001b[0mlatent_diffusion_compvis\u001b[0m\u001b[0;34m.\u001b[0m\u001b[0mldm\u001b[0m\u001b[0;34m.\u001b[0m\u001b[0mmodels\u001b[0m\u001b[0;34m.\u001b[0m\u001b[0mautoencoder\u001b[0m \u001b[0;32mimport\u001b[0m \u001b[0mAutoencoderKL\u001b[0m\u001b[0;34m\u001b[0m\u001b[0;34m\u001b[0m\u001b[0m\n\u001b[0m",
      "\u001b[0;31mModuleNotFoundError\u001b[0m: No module named 'latent_diffusion_compvis.ldm'"
     ]
    }
   ],
   "source": [
    "from latent_diffusion_compvis.ldm.models.autoencoder import AutoencoderKL"
   ]
  },
  {
   "cell_type": "code",
   "execution_count": 21,
   "metadata": {},
   "outputs": [
    {
     "ename": "ModuleNotFoundError",
     "evalue": "No module named 'clip'",
     "output_type": "error",
     "traceback": [
      "\u001b[0;31m---------------------------------------------------------------------------\u001b[0m",
      "\u001b[0;31mModuleNotFoundError\u001b[0m                       Traceback (most recent call last)",
      "\u001b[0;32m<ipython-input-21-98bd26daa43e>\u001b[0m in \u001b[0;36m<module>\u001b[0;34m\u001b[0m\n\u001b[0;32m----> 1\u001b[0;31m \u001b[0;32mimport\u001b[0m \u001b[0mclip\u001b[0m\u001b[0;34m\u001b[0m\u001b[0;34m\u001b[0m\u001b[0m\n\u001b[0m",
      "\u001b[0;31mModuleNotFoundError\u001b[0m: No module named 'clip'"
     ]
    }
   ],
   "source": [
    "import clip"
   ]
  },
  {
   "cell_type": "code",
   "execution_count": 18,
   "metadata": {},
   "outputs": [
    {
     "ename": "ModuleNotFoundError",
     "evalue": "No module named 'taming_transformers'",
     "output_type": "error",
     "traceback": [
      "\u001b[0;31m---------------------------------------------------------------------------\u001b[0m",
      "\u001b[0;31mModuleNotFoundError\u001b[0m                       Traceback (most recent call last)",
      "\u001b[0;32m<ipython-input-18-bf0d8539f411>\u001b[0m in \u001b[0;36m<module>\u001b[0;34m\u001b[0m\n\u001b[0;32m----> 1\u001b[0;31m \u001b[0;32mfrom\u001b[0m \u001b[0mtaming_transformers\u001b[0m\u001b[0;34m.\u001b[0m\u001b[0mmodules\u001b[0m\u001b[0;34m.\u001b[0m\u001b[0mvqvae\u001b[0m\u001b[0;34m.\u001b[0m\u001b[0mquantize\u001b[0m \u001b[0;32mimport\u001b[0m \u001b[0mVectorQuantizer2\u001b[0m\u001b[0;34m\u001b[0m\u001b[0;34m\u001b[0m\u001b[0m\n\u001b[0m",
      "\u001b[0;31mModuleNotFoundError\u001b[0m: No module named 'taming_transformers'"
     ]
    }
   ],
   "source": [
    "from taming-transformers.modules.vqvae.quantize import VectorQuantizer2"
   ]
  },
  {
   "cell_type": "code",
   "execution_count": 14,
   "metadata": {},
   "outputs": [
    {
     "ename": "ModuleNotFoundError",
     "evalue": "No module named 'taming'",
     "output_type": "error",
     "traceback": [
      "\u001b[0;31m---------------------------------------------------------------------------\u001b[0m",
      "\u001b[0;31mModuleNotFoundError\u001b[0m                       Traceback (most recent call last)",
      "\u001b[0;32m<ipython-input-14-9180fc0c91b9>\u001b[0m in \u001b[0;36m<module>\u001b[0;34m\u001b[0m\n\u001b[0;32m----> 1\u001b[0;31m \u001b[0;32mfrom\u001b[0m \u001b[0mtaming\u001b[0m\u001b[0;34m.\u001b[0m\u001b[0mmodules\u001b[0m\u001b[0;34m.\u001b[0m\u001b[0mvqvae\u001b[0m\u001b[0;34m.\u001b[0m\u001b[0mquantize\u001b[0m \u001b[0;32mimport\u001b[0m \u001b[0mVectorQuantizer2\u001b[0m\u001b[0;34m\u001b[0m\u001b[0;34m\u001b[0m\u001b[0m\n\u001b[0m",
      "\u001b[0;31mModuleNotFoundError\u001b[0m: No module named 'taming'"
     ]
    }
   ],
   "source": [
    "from taming.modules.vqvae.quantize import VectorQuantizer2"
   ]
  },
  {
   "cell_type": "code",
   "execution_count": 1,
   "metadata": {},
   "outputs": [
    {
     "ename": "ImportError",
     "evalue": "cannot import name 'VectorQuantizer2' from 'taming.modules.vqvae.quantize' (c:\\Users\\willf\\AppData\\Local\\Programs\\Python\\Python39\\lib\\site-packages\\taming\\modules\\vqvae\\quantize.py)",
     "output_type": "error",
     "traceback": [
      "\u001b[1;31m---------------------------------------------------------------------------\u001b[0m",
      "\u001b[1;31mImportError\u001b[0m                               Traceback (most recent call last)",
      "\u001b[1;32mc:\\Users\\willf\\Documents\\Uni\\Dissertation\\autoencoder-gan\\diffusion_f4_ae.ipynb Cell 9'\u001b[0m in \u001b[0;36m<module>\u001b[1;34m\u001b[0m\n\u001b[1;32m----> <a href='vscode-notebook-cell:/c%3A/Users/willf/Documents/Uni/Dissertation/autoencoder-gan/diffusion_f4_ae.ipynb#ch0000008?line=0'>1</a>\u001b[0m \u001b[39mfrom\u001b[39;00m \u001b[39mtaming\u001b[39;00m\u001b[39m.\u001b[39;00m\u001b[39mmodules\u001b[39;00m\u001b[39m.\u001b[39;00m\u001b[39mvqvae\u001b[39;00m\u001b[39m.\u001b[39;00m\u001b[39mquantize\u001b[39;00m \u001b[39mimport\u001b[39;00m VectorQuantizer2\n",
      "\u001b[1;31mImportError\u001b[0m: cannot import name 'VectorQuantizer2' from 'taming.modules.vqvae.quantize' (c:\\Users\\willf\\AppData\\Local\\Programs\\Python\\Python39\\lib\\site-packages\\taming\\modules\\vqvae\\quantize.py)"
     ]
    }
   ],
   "source": [
    "from taming.modules.vqvae.quantize import VectorQuantizer2"
   ]
  },
  {
   "cell_type": "code",
   "execution_count": null,
   "metadata": {},
   "outputs": [],
   "source": []
  }
 ],
 "metadata": {
  "interpreter": {
   "hash": "259771fb0e24a764efce4fd955c0b099f3a7b4b1af73db6068fac1ad6a526fe6"
  },
  "kernelspec": {
   "display_name": "will",
   "language": "python",
   "name": "will"
  },
  "language_info": {
   "codemirror_mode": {
    "name": "ipython",
    "version": 3
   },
   "file_extension": ".py",
   "mimetype": "text/x-python",
   "name": "python",
   "nbconvert_exporter": "python",
   "pygments_lexer": "ipython3",
   "version": "3.8.10"
  },
  "orig_nbformat": 4
 },
 "nbformat": 4,
 "nbformat_minor": 2
}
