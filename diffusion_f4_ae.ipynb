{
 "cells": [
  {
   "cell_type": "markdown",
   "metadata": {},
   "source": [
    "# F4 Pre Trained Autoencoders\n",
    "\n",
    "From:\n",
    "\n",
    "- https://github.com/CompVis/latent-diffusion#pretrained-autoencoding-models\n",
    "\n",
    "\n"
   ]
  },
  {
   "cell_type": "code",
   "execution_count": 1,
   "metadata": {},
   "outputs": [
    {
     "name": "stdout",
     "output_type": "stream",
     "text": [
      "total 12\n",
      "-rw-rw-r-- 1 will will 1061 May 13 18:20 LICENSE\n",
      "-rw-rw-r-- 1 will will  318 May 25 11:13 README.md\n",
      "drwxrwxr-x 6 will will 4096 Jun  1 11:10 wandb\n"
     ]
    }
   ],
   "source": [
    "!ls -l"
   ]
  },
  {
   "cell_type": "code",
   "execution_count": null,
   "metadata": {},
   "outputs": [],
   "source": [
    "!pip install -r ./requirements.txt"
   ]
  },
  {
   "cell_type": "markdown",
   "metadata": {},
   "source": [
    "### KL Autoencoder"
   ]
  },
  {
   "cell_type": "code",
   "execution_count": 12,
   "metadata": {},
   "outputs": [
    {
     "ename": "ModuleNotFoundError",
     "evalue": "No module named 'wget'",
     "output_type": "error",
     "traceback": [
      "\u001b[0;31m---------------------------------------------------------------------------\u001b[0m",
      "\u001b[0;31mModuleNotFoundError\u001b[0m                       Traceback (most recent call last)",
      "\u001b[0;32m<ipython-input-12-97087ff0bb24>\u001b[0m in \u001b[0;36m<module>\u001b[0;34m\u001b[0m\n\u001b[1;32m      1\u001b[0m \u001b[0;32mimport\u001b[0m \u001b[0mos\u001b[0m\u001b[0;34m\u001b[0m\u001b[0;34m\u001b[0m\u001b[0m\n\u001b[0;32m----> 2\u001b[0;31m \u001b[0;32mimport\u001b[0m \u001b[0mwget\u001b[0m\u001b[0;34m\u001b[0m\u001b[0;34m\u001b[0m\u001b[0m\n\u001b[0m\u001b[1;32m      3\u001b[0m \u001b[0;32mimport\u001b[0m \u001b[0mzipfile\u001b[0m\u001b[0;34m\u001b[0m\u001b[0;34m\u001b[0m\u001b[0m\n\u001b[1;32m      4\u001b[0m \u001b[0;34m\u001b[0m\u001b[0m\n\u001b[1;32m      5\u001b[0m \u001b[0;32mdef\u001b[0m \u001b[0mdownload_pre_trained_ae\u001b[0m\u001b[0;34m(\u001b[0m\u001b[0murl\u001b[0m\u001b[0;34m,\u001b[0m \u001b[0moutput_dir\u001b[0m\u001b[0;34m)\u001b[0m\u001b[0;34m:\u001b[0m\u001b[0;34m\u001b[0m\u001b[0;34m\u001b[0m\u001b[0m\n",
      "\u001b[0;31mModuleNotFoundError\u001b[0m: No module named 'wget'"
     ]
    }
   ],
   "source": [
    "import os\n",
    "import wget\n",
    "import zipfile\n",
    "\n",
    "def download_pre_trained_ae(url, output_dir):\n",
    "    if os.path.exists(output_dir):\n",
    "        print(\"Used cache\")\n",
    "    else:\n",
    "        filename = wget.download(url)\n",
    "\n",
    "        with zipfile.ZipFile(filename, 'r') as zip_ref:\n",
    "            zip_ref.extractall(output_dir)\n",
    "\n",
    "        if os.path.exists(filename):\n",
    "            os.remove(filename)"
   ]
  },
  {
   "cell_type": "code",
   "execution_count": 13,
   "metadata": {},
   "outputs": [
    {
     "ename": "ModuleNotFoundError",
     "evalue": "No module named 'latent_diffusion_compvis.ldm'",
     "output_type": "error",
     "traceback": [
      "\u001b[0;31m---------------------------------------------------------------------------\u001b[0m",
      "\u001b[0;31mModuleNotFoundError\u001b[0m                       Traceback (most recent call last)",
      "\u001b[0;32m<ipython-input-13-6814e58b48f8>\u001b[0m in \u001b[0;36m<module>\u001b[0;34m\u001b[0m\n\u001b[0;32m----> 1\u001b[0;31m \u001b[0;32mfrom\u001b[0m \u001b[0mlatent_diffusion_compvis\u001b[0m\u001b[0;34m.\u001b[0m\u001b[0mldm\u001b[0m\u001b[0;34m.\u001b[0m\u001b[0mmodels\u001b[0m\u001b[0;34m.\u001b[0m\u001b[0mautoencoder\u001b[0m \u001b[0;32mimport\u001b[0m \u001b[0mAutoencoderKL\u001b[0m\u001b[0;34m\u001b[0m\u001b[0;34m\u001b[0m\u001b[0m\n\u001b[0m",
      "\u001b[0;31mModuleNotFoundError\u001b[0m: No module named 'latent_diffusion_compvis.ldm'"
     ]
    }
   ],
   "source": [
    "from latent_diffusion_compvis.ldm.models.autoencoder import AutoencoderKL"
   ]
  },
  {
   "cell_type": "code",
   "execution_count": 15,
   "metadata": {},
   "outputs": [
    {
     "name": "stdout",
     "output_type": "stream",
     "text": [
      "\n",
      "Please wait a moment while I gather a list of all available modules...\n",
      "\n"
     ]
    },
    {
     "name": "stderr",
     "output_type": "stream",
     "text": [
      "/usr/local/lib/python3.8/dist-packages/tqdm/auto.py:22: TqdmWarning: IProgress not found. Please update jupyter and ipywidgets. See https://ipywidgets.readthedocs.io/en/stable/user_install.html\n",
      "  from .autonotebook import tqdm as notebook_tqdm\n",
      "wandb: ERROR kfp not found!  Please `pip install kfp`\n",
      "wandb: ERROR Failed to patch kfp.components.create_component_from_func!  Please check if this package/module is installed!\n",
      "wandb: ERROR Failed to patch kfp.components._python_op.create_component_from_func!  Please check if this package/module is installed!\n",
      "wandb: ERROR Failed to patch kfp.components._python_op._get_function_source_definition!  Please check if this package/module is installed!\n",
      "wandb: ERROR Failed to patch kfp.components._python_op.strip_type_hints!  Please check if this package/module is installed!\n",
      "wandb: ERROR Failed to patch one or more kfp functions.  Patching @wandb_log decorator to no-op.\n",
      "wandb: ERROR Failed to patch wandb.integration.kfp.wandb_log!  Please check if this package/module is installed!\n",
      "/usr/lib/python3.8/pkgutil.py:92: UserWarning: The numpy.array_api submodule is still experimental. See NEP 47.\n",
      "  __import__(info.name)\n",
      "/usr/lib/python3/dist-packages/IPython/kernel/__init__.py:12: ShimWarning: The `IPython.kernel` package has been deprecated since IPython 4.0.You should import from ipykernel or jupyter_client instead.\n",
      "  warn(\"The `IPython.kernel` package has been deprecated since IPython 4.0.\"\n",
      "/usr/lib/python3.8/pkgutil.py:92: MatplotlibDeprecationWarning: \n",
      "The mpl_toolkits.axes_grid module was deprecated in Matplotlib 2.1 and will be removed two minor releases later. Use mpl_toolkits.axes_grid1 and mpl_toolkits.axisartist, which provide the same functionality instead.\n",
      "  __import__(info.name)\n"
     ]
    },
    {
     "name": "stdout",
     "output_type": "stream",
     "text": [
      "Fail to import hypothesis in common_utils, tests are not derandomized\n",
      "CommandNotFound     bz2                 jsonpointer         requests\n",
      "Cryptodome          cProfile            jsonschema          requests_oauthlib\n",
      "DistUpgrade         cached_property     jupyter             requests_unixsocket\n",
      "HweSupportStatus    cachetools          jupyter_client      resource\n",
      "IPython             caffe               jupyter_console     rlcompleter\n",
      "LanguageSelector    caffe2              jupyter_core        rmagic\n",
      "OpenSSL             calendar            jupyter_server      rsa\n",
      "PIL                 certifi             jupyterlab          runpy\n",
      "UpdateManager       cffi                jupyterlab_pygments sched\n",
      "__future__          cgi                 jupyterlab_server   scipy\n",
      "_abc                cgitb               jupyterlab_widgets  secrets\n",
      "_argon2_cffi_bindings cgroup_top          jwt                 secretstorage\n",
      "_ast                chardet             kaptan              select\n",
      "_asyncio            charset_normalizer  keras               selectors\n",
      "_bisect             chunk               keras_preprocessing send2trash\n",
      "_blake2             click               keyring             sentry_sdk\n",
      "_bootlocale         cloudinit           keyword             serial\n",
      "_bz2                cmath               kiwisolver          service_identity\n",
      "_cffi_backend       cmd                 landscape           setproctitle\n",
      "_codecs             code                language_support_pkgs setuptools\n",
      "_codecs_cn          codecs              launchpadlib        shelve\n",
      "_codecs_hk          codeop              lib2to3             shlex\n",
      "_codecs_iso2022     collections         libfuturize         shortuuid\n",
      "_codecs_jp          colorama            libpasteurize       shutil\n",
      "_codecs_kr          colorsys            libtmux             signal\n",
      "_codecs_tw          compileall          linecache           simplejson\n",
      "_collections        compose             locale              site\n",
      "_collections_abc    concurrent          logging             sitecustomize\n",
      "_compat_pickle      configobj           lsb_release         six\n",
      "_compression        configparser        lzma                skcuda\n",
      "_contextvars        constantly          mailbox             skimage\n",
      "_crypt              contextlib          mailcap             sklearn\n",
      "_csv                contextvars         mako                smmap\n",
      "_ctypes             copy                markdown            smtpd\n",
      "_ctypes_test        copyreg             markupsafe          smtplib\n",
      "_curses             crypt               marshal             snack\n",
      "_curses_panel       cryptography        math                sndhdr\n",
      "_datetime           csv                 matplotlib          sniffio\n",
      "_dbm                ctypes              mccabe              socket\n",
      "_dbus_bindings      curses              mimetypes           socketserver\n",
      "_dbus_glib_bindings cv2                 mistune             softwareproperties\n",
      "_decimal            cycler              mmap                sos\n",
      "_dummy_thread       cythonmagic         modulefinder        spwd\n",
      "_elementtree        dataclasses         more_itertools      sqlite3\n",
      "_functools          datetime            mpi4py              sre_compile\n",
      "_gdbm               dateutil            mpl_toolkits        sre_constants\n",
      "_hashlib            dbm                 multimethod         sre_parse\n",
      "_heapq              dbus                multiprocessing     ssh_import_id\n",
      "_imp                deb822              nacl                ssl\n",
      "_io                 debconf             nbclassic           stat\n",
      "_json               debian              nbclient            statistics\n",
      "_locale             debian_bundle       nbconvert           storemagic\n",
      "_lsprof             decimal             nbformat            string\n",
      "_lzma               decorator           nest_asyncio        stringprep\n",
      "_markupbase         defusedxml          netifaces           struct\n",
      "_md5                difflib             netrc               subprocess\n",
      "_multibytecodec     dis                 networkx            sunau\n",
      "_multiprocessing    distlib             nis                 symbol\n",
      "_opcode             distro              nntplib             sympyprinting\n",
      "_operator           distro_info         notebook            symtable\n",
      "_osx_support        distutils           ntpath              sys\n",
      "_pickle             docker              nturl2path          sysconfig\n",
      "_posixshmem         dockerpty           numbers             syslog\n",
      "_posixsubprocess    dockerpycreds       numpy               systemd\n",
      "_py_abc             docopt              nvidia_smi          tabnanny\n",
      "_pydecimal          doctest             oauth2client        tangled_up_in_unicode\n",
      "_pyio               dummy_threading     oauthlib            tarfile\n",
      "_pyrsistent_version easy_install        opcode              telnetlib\n",
      "_queue              email               operator            tempfile\n",
      "_random             encodings           opt_einsum          tensorboard\n",
      "_sha1               ensurepip           optparse            tensorflow\n",
      "_sha256             entrypoints         os                  tensorflow_estimator\n",
      "_sha3               enum                ossaudiodev         termcolor\n",
      "_sha512             errno               packaging           terminado\n",
      "_signal             expecttest          pandas              termios\n",
      "_sitebuiltins       faulthandler        pandocfilters       test\n",
      "_snack              fcntl               parser              testpath\n",
      "_socket             filecmp             parso               testresources\n",
      "_sqlite3            fileinput           past                tests\n",
      "_sre                filelock            pasta               texttable\n",
      "_ssl                flake8              pathlib             textwrap\n",
      "_stat               flatbuffers         pathtools           theano\n",
      "_statistics         fnmatch             pbr                 this\n",
      "_string             fontTools           pdb                 threading\n",
      "_strptime           formatter           pexpect             time\n",
      "_struct             fractions           pickle              timeit\n",
      "_symtable           ftplib              pickleshare         tmuxp\n",
      "_sysconfigdata__linux_x86_64-linux-gnu functools           pickletools         token\n",
      "_sysconfigdata__x86_64-linux-gnu future              pip                 tokenize\n",
      "_testbuffer         gast                pipes               torch\n",
      "_testcapi           gc                  pkg_resources       torchvision\n",
      "_testimportmultiple genericpath         pkgutil             tornado\n",
      "_testinternalcapi   getopt              platform            tqdm\n",
      "_testmultiphase     getpass             plistlib            trace\n",
      "_thread             gettext             ply                 traceback\n",
      "_threading_local    gi                  poplib              tracemalloc\n",
      "_tracemalloc        git                 posix               traitlets\n",
      "_uuid               gitdb               posixpath           tty\n",
      "_version            glances             pprint              turtle\n",
      "_warnings           glob                problem_report      twisted\n",
      "_weakref            google_auth_httplib2 profile             types\n",
      "_weakrefset         google_auth_oauthlib prometheus_client   typing\n",
      "_xxsubinterpreters  googleapiclient     promise             typing_extensions\n",
      "_xxtestfuzz         grp                 prompt_toolkit      uaclient\n",
      "_yaml               grpc                pstats              ufw\n",
      "abc                 gzip                psutil              unicodedata\n",
      "absl                h5py                pty                 unittest\n",
      "aifc                hamcrest            ptyprocess          uritemplate\n",
      "antigravity         hashlib             pvectorc            urllib\n",
      "anyio               heapq               pwd                 urllib3\n",
      "apiclient           hmac                py_compile          uu\n",
      "appdirs             html                pyasn1              uuid\n",
      "apport              html5lib            pyasn1_modules      validate\n",
      "apport_python_hook  htmlmin             pyclbr              venv\n",
      "apt                 http                pycodestyle         virtualenv\n",
      "apt_inst            httplib2            pycparser           visions\n",
      "apt_pkg             hyperlink           pycuda              wadllib\n",
      "aptsources          icdiff              pydoc               wandb\n",
      "argon2              idna                pydoc_data          warnings\n",
      "argparse            ignite              pydrive             wave\n",
      "array               imageio             pyexpat             wcwidth\n",
      "ast                 imaplib             pyflakes            weakref\n",
      "astunparse          imghdr              pygments            webbrowser\n",
      "asynchat            imp                 pygpu               webencodings\n",
      "asyncio             importlib           pygtkcompat         websocket\n",
      "asyncore            importlib_metadata  pylab               werkzeug\n",
      "atexit              incremental         pymacaroons         wheel\n",
      "attr                influxdb            pynvml              wrapt\n",
      "audioop             inspect             pyparsing           wsgiref\n",
      "automat             io                  pyrsistent          xdrlib\n",
      "autoreload          iotop               pysmi               xml\n",
      "babel               ipaddress           pysnmp              xmlrpc\n",
      "backcall            ipykernel           pystache            xxlimited\n",
      "base64              ipykernel_launcher  pytools             xxsubtype\n",
      "bdb                 ipython_genutils    pytorch_fid         yaml\n",
      "bin                 itertools           pytz                zipapp\n",
      "binascii            janitor             pywt                zipfile\n",
      "binhex              jedi                queue               zipimport\n",
      "bisect              jinja2              quopri              zipp\n",
      "bleach              joblib              random              zlib\n",
      "blinker             json                re                  zmq\n",
      "bottle              json5               readline            zope\n",
      "builtins            jsonpatch           reprlib             \n",
      "\n",
      "Enter any module name to get more help.  Or, type \"modules spam\" to search\n",
      "for modules whose name or summary contain the string \"spam\".\n",
      "\n",
      "None\n"
     ]
    },
    {
     "name": "stderr",
     "output_type": "stream",
     "text": [
      "/usr/lib/python3.8/pkgutil.py:107: VisibleDeprecationWarning: zmq.eventloop.minitornado is deprecated in pyzmq 14.0 and will be removed.\n",
      "    Install tornado itself to use zmq with the tornado IOLoop.\n",
      "    \n",
      "  yield from walk_packages(path, info.name+'.', onerror)\n"
     ]
    }
   ],
   "source": [
    "print( help('modules'))"
   ]
  },
  {
   "cell_type": "code",
   "execution_count": 14,
   "metadata": {},
   "outputs": [
    {
     "ename": "ModuleNotFoundError",
     "evalue": "No module named 'taming'",
     "output_type": "error",
     "traceback": [
      "\u001b[0;31m---------------------------------------------------------------------------\u001b[0m",
      "\u001b[0;31mModuleNotFoundError\u001b[0m                       Traceback (most recent call last)",
      "\u001b[0;32m<ipython-input-14-9180fc0c91b9>\u001b[0m in \u001b[0;36m<module>\u001b[0;34m\u001b[0m\n\u001b[0;32m----> 1\u001b[0;31m \u001b[0;32mfrom\u001b[0m \u001b[0mtaming\u001b[0m\u001b[0;34m.\u001b[0m\u001b[0mmodules\u001b[0m\u001b[0;34m.\u001b[0m\u001b[0mvqvae\u001b[0m\u001b[0;34m.\u001b[0m\u001b[0mquantize\u001b[0m \u001b[0;32mimport\u001b[0m \u001b[0mVectorQuantizer2\u001b[0m\u001b[0;34m\u001b[0m\u001b[0;34m\u001b[0m\u001b[0m\n\u001b[0m",
      "\u001b[0;31mModuleNotFoundError\u001b[0m: No module named 'taming'"
     ]
    }
   ],
   "source": [
    "from taming.modules.vqvae.quantize import VectorQuantizer2"
   ]
  },
  {
   "cell_type": "code",
   "execution_count": 1,
   "metadata": {},
   "outputs": [
    {
     "ename": "ImportError",
     "evalue": "cannot import name 'VectorQuantizer2' from 'taming.modules.vqvae.quantize' (c:\\Users\\willf\\AppData\\Local\\Programs\\Python\\Python39\\lib\\site-packages\\taming\\modules\\vqvae\\quantize.py)",
     "output_type": "error",
     "traceback": [
      "\u001b[1;31m---------------------------------------------------------------------------\u001b[0m",
      "\u001b[1;31mImportError\u001b[0m                               Traceback (most recent call last)",
      "\u001b[1;32mc:\\Users\\willf\\Documents\\Uni\\Dissertation\\autoencoder-gan\\diffusion_f4_ae.ipynb Cell 9'\u001b[0m in \u001b[0;36m<module>\u001b[1;34m\u001b[0m\n\u001b[1;32m----> <a href='vscode-notebook-cell:/c%3A/Users/willf/Documents/Uni/Dissertation/autoencoder-gan/diffusion_f4_ae.ipynb#ch0000008?line=0'>1</a>\u001b[0m \u001b[39mfrom\u001b[39;00m \u001b[39mtaming\u001b[39;00m\u001b[39m.\u001b[39;00m\u001b[39mmodules\u001b[39;00m\u001b[39m.\u001b[39;00m\u001b[39mvqvae\u001b[39;00m\u001b[39m.\u001b[39;00m\u001b[39mquantize\u001b[39;00m \u001b[39mimport\u001b[39;00m VectorQuantizer2\n",
      "\u001b[1;31mImportError\u001b[0m: cannot import name 'VectorQuantizer2' from 'taming.modules.vqvae.quantize' (c:\\Users\\willf\\AppData\\Local\\Programs\\Python\\Python39\\lib\\site-packages\\taming\\modules\\vqvae\\quantize.py)"
     ]
    }
   ],
   "source": [
    "from taming.modules.vqvae.quantize import VectorQuantizer2"
   ]
  },
  {
   "cell_type": "code",
   "execution_count": null,
   "metadata": {},
   "outputs": [],
   "source": []
  }
 ],
 "metadata": {
  "interpreter": {
   "hash": "259771fb0e24a764efce4fd955c0b099f3a7b4b1af73db6068fac1ad6a526fe6"
  },
  "kernelspec": {
   "display_name": "will",
   "language": "python",
   "name": "will"
  },
  "language_info": {
   "codemirror_mode": {
    "name": "ipython",
    "version": 3
   },
   "file_extension": ".py",
   "mimetype": "text/x-python",
   "name": "python",
   "nbconvert_exporter": "python",
   "pygments_lexer": "ipython3",
   "version": "3.8.10"
  },
  "orig_nbformat": 4
 },
 "nbformat": 4,
 "nbformat_minor": 2
}
