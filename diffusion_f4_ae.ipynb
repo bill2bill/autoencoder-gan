{
 "cells": [
  {
   "cell_type": "markdown",
   "metadata": {},
   "source": [
    "# F4 Pre Trained Autoencoders\n",
    "\n",
    "From:\n",
    "\n",
    "- https://github.com/CompVis/latent-diffusion#pretrained-autoencoding-models\n"
   ]
  },
  {
   "cell_type": "markdown",
   "metadata": {},
   "source": [
    "### KL Autoencoder"
   ]
  },
  {
   "cell_type": "code",
   "execution_count": 3,
   "metadata": {
    "vscode": {
     "languageId": "python"
    }
   },
   "outputs": [],
   "source": [
    "import os\n",
    "import wget\n",
    "import zipfile\n",
    "\n",
    "def download_pre_trained_ae(url, output_dir):\n",
    "    if os.path.exists(output_dir):\n",
    "        print(\"Used cache\")\n",
    "    else:\n",
    "        filename = wget.download(url)\n",
    "\n",
    "        with zipfile.ZipFile(filename, 'r') as zip_ref:\n",
    "            zip_ref.extractall(output_dir)\n",
    "\n",
    "        if os.path.exists(filename):\n",
    "            os.remove(filename)"
   ]
  },
  {
   "cell_type": "code",
   "execution_count": 4,
   "metadata": {
    "vscode": {
     "languageId": "python"
    }
   },
   "outputs": [
    {
     "name": "stdout",
     "output_type": "stream",
     "text": [
      "100% [......................................................................] 695417379 / 695417379"
     ]
    }
   ],
   "source": [
    "download_pre_trained_ae(\"https://ommer-lab.com/files/latent-diffusion/kl-f4.zip\", './klf4')"
   ]
  },
  {
   "cell_type": "code",
   "execution_count": null,
   "metadata": {
    "vscode": {
     "languageId": "python"
    }
   },
   "outputs": [],
   "source": [
    "def load_model(config, ckpt, gpu, eval_mode):\n",
    "    if ckpt:\n",
    "        print(f\"Loading model from {ckpt}\")\n",
    "        pl_sd = torch.load(ckpt, map_location=\"cpu\")\n",
    "        global_step = pl_sd[\"global_step\"]\n",
    "    else:\n",
    "        pl_sd = {\"state_dict\": None}\n",
    "        global_step = None\n",
    "    model = load_model_from_config(config.model,\n",
    "                                   pl_sd[\"state_dict\"])\n",
    "\n",
    "    return model, global_step"
   ]
  },
  {
   "cell_type": "code",
   "execution_count": null,
   "metadata": {
    "vscode": {
     "languageId": "python"
    }
   },
   "outputs": [],
   "source": [
    "import torch\n",
    "from ldm.models.autoencoder import AutoencoderKL\n",
    "\n",
    "ddconfig = {\n",
    "    \"double_z\": True,\n",
    "    \"z_channels\": 3,\n",
    "    \"resolution\": 256,\n",
    "    \"in_channels\": 3,\n",
    "    \"out_ch\": 3,\n",
    "    \"ch\": 128,\n",
    "    \"ch_mult\": [1,2,4],\n",
    "    \"num_res_blocks\": 2,\n",
    "    \"attn_resolutions\": [],\n",
    "    \"dropout\": 0.0\n",
    "}\n",
    "lossconfig = {\n",
    "      \"target\": \"ldm.modules.losses.LPIPSWithDiscriminator\",\n",
    "      \"params\": {\n",
    "        \"disc_start\": 50001,\n",
    "        \"kl_weight\": 1.0e-06,\n",
    "        \"disc_weight\": 0.5\n",
    "      }\n",
    "}\n",
    "embed_dim = 3\n",
    "\n",
    "pl_sd = torch.load(\"klf4/model.ckpt\", map_location=\"cpu\")\n",
    "\n",
    "model = AutoencoderKL(ddconfig, lossconfig, embed_dim)\n",
    "\n",
    "model.load_state_dict(pl_sd[\"state_dict\"] ,strict=False)\n",
    "model.cuda()\n",
    "model.eval()"
   ]
  },
  {
   "cell_type": "code",
   "execution_count": 12,
   "metadata": {
    "vscode": {
     "languageId": "python"
    }
   },
   "outputs": [
    {
     "data": {
      "text/plain": [
       "torch.Size([1, 6, 32, 32])"
      ]
     },
     "execution_count": 12,
     "metadata": {},
     "output_type": "execute_result"
    }
   ],
   "source": [
    "import numpy as np\n",
    "\n",
    "imarray = np.random.rand(1, 3, 128, 128) * 255\n",
    "\n",
    "input = torch.FloatTensor(imarray).cuda()\n",
    "\n",
    "output = model.encoder(input)\n",
    "\n",
    "output.shape\n",
    "\n",
    "# model()"
   ]
  },
  {
   "cell_type": "code",
   "execution_count": null,
   "metadata": {
    "vscode": {
     "languageId": "python"
    }
   },
   "outputs": [],
   "source": []
  }
 ],
 "metadata": {
  "interpreter": {
   "hash": "259771fb0e24a764efce4fd955c0b099f3a7b4b1af73db6068fac1ad6a526fe6"
  },
  "kernelspec": {
   "display_name": "will py3",
   "language": "python",
   "name": "python3"
  },
  "orig_nbformat": 4
 },
 "nbformat": 4,
 "nbformat_minor": 2
}
