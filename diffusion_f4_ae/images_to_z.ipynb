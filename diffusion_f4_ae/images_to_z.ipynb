{
 "cells": [
  {
   "cell_type": "markdown",
   "metadata": {},
   "source": [
    "# Converting FFHQ images to latent space Z\n",
    "\n",
    "From:\n",
    "\n",
    "- https://github.com/CompVis/latent-diffusion#pretrained-autoencoding-models\n"
   ]
  },
  {
   "cell_type": "code",
   "execution_count": 2,
   "metadata": {},
   "outputs": [],
   "source": [
    "import os\n",
    "import glob\n",
    "import wget\n",
    "import zipfile\n",
    "\n",
    "import numpy as np\n",
    "\n",
    "from PIL import Image\n",
    "\n",
    "import torchvision.transforms as transforms\n",
    "import torchvision.datasets as dset\n",
    "import torch\n",
    "\n",
    "from ldm.models.autoencoder import AutoencoderKL\n",
    "\n",
    "from tqdm import tqdm"
   ]
  },
  {
   "cell_type": "code",
   "execution_count": 3,
   "metadata": {},
   "outputs": [],
   "source": [
    "IMAGE_DIR = \"/data/imagefolder/ffhq\"\n",
    "OUTPUT_DIR = \"/data/imagefolder/latent/klf4\"\n",
    "IMAGE_SIZE = 256\n",
    "WORKERS = 2\n",
    "BATCH_SIZE = 128"
   ]
  },
  {
   "cell_type": "code",
   "execution_count": 3,
   "metadata": {},
   "outputs": [],
   "source": [
    "dataset = dset.ImageFolder(root=IMAGE_DIR,\n",
    "                           transform=transforms.Compose([\n",
    "                                transforms.ToTensor(),\n",
    "                                transforms.Resize(IMAGE_SIZE),\n",
    "                                transforms.CenterCrop(IMAGE_SIZE),\n",
    "                                transforms.Normalize(mean=[0.485, 0.456, 0.406], std=[0.229, 0.224, 0.225])\n",
    "                           ]))\n",
    "\n",
    "dataloader = torch.utils.data.DataLoader(dataset, batch_size=BATCH_SIZE, shuffle=False, num_workers=WORKERS)"
   ]
  },
  {
   "cell_type": "code",
   "execution_count": 4,
   "metadata": {},
   "outputs": [],
   "source": [
    "def download_pre_trained_ae(url, output_dir):\n",
    "    if os.path.exists(output_dir):\n",
    "        print(\"Used cache\")\n",
    "    else:\n",
    "        filename = wget.download(url)\n",
    "\n",
    "        with zipfile.ZipFile(filename, 'r') as zip_ref:\n",
    "            zip_ref.extractall(output_dir)\n",
    "\n",
    "        if os.path.exists(filename):\n",
    "            os.remove(filename)"
   ]
  },
  {
   "cell_type": "code",
   "execution_count": 5,
   "metadata": {},
   "outputs": [
    {
     "name": "stdout",
     "output_type": "stream",
     "text": [
      "Used cache\n"
     ]
    }
   ],
   "source": [
    "download_pre_trained_ae(\"https://ommer-lab.com/files/latent-diffusion/kl-f4.zip\", './klf4')"
   ]
  },
  {
   "cell_type": "code",
   "execution_count": 6,
   "metadata": {},
   "outputs": [
    {
     "name": "stdout",
     "output_type": "stream",
     "text": [
      "making attention of type 'vanilla' with 512 in_channels\n",
      "Working with z of shape (1, 3, 64, 64) = 12288 dimensions.\n",
      "making attention of type 'vanilla' with 512 in_channels\n",
      "loaded pretrained LPIPS loss from taming/modules/autoencoder/lpips/vgg.pth\n"
     ]
    },
    {
     "data": {
      "text/plain": [
       "<All keys matched successfully>"
      ]
     },
     "execution_count": 6,
     "metadata": {},
     "output_type": "execute_result"
    }
   ],
   "source": [
    "ddconfig = {\n",
    "    \"double_z\": True,\n",
    "    \"z_channels\": 3,\n",
    "    \"resolution\": 256,\n",
    "    \"in_channels\": 3,\n",
    "    \"out_ch\": 3,\n",
    "    \"ch\": 128,\n",
    "    \"ch_mult\": [1,2,4],\n",
    "    \"num_res_blocks\": 2,\n",
    "    \"attn_resolutions\": [],\n",
    "    \"dropout\": 0.0\n",
    "}\n",
    "lossconfig = {\n",
    "      \"target\": \"ldm.modules.losses.LPIPSWithDiscriminator\",\n",
    "      \"params\": {\n",
    "        \"disc_start\": 50001,\n",
    "        \"kl_weight\": 1.0e-06,\n",
    "        \"disc_weight\": 0.5\n",
    "      }\n",
    "}\n",
    "embed_dim = 3\n",
    "\n",
    "pl_sd = torch.load(\"klf4/model.ckpt\", map_location=\"cpu\")\n",
    "\n",
    "model = AutoencoderKL(ddconfig, lossconfig, embed_dim)\n",
    "\n",
    "model.load_state_dict(pl_sd[\"state_dict\"] ,strict=False)\n",
    "# model.cuda()\n",
    "# model.to('cuda:0')\n",
    "# model.eval()\n"
   ]
  },
  {
   "cell_type": "code",
   "execution_count": 7,
   "metadata": {},
   "outputs": [],
   "source": [
    "# for f in glob.glob(f\"{OUTPUT_DIR}/*\"):\n",
    "#     os.remove(f)"
   ]
  },
  {
   "cell_type": "code",
   "execution_count": 8,
   "metadata": {},
   "outputs": [
    {
     "name": "stderr",
     "output_type": "stream",
     "text": [
      "100%|████████████████████████████████████████████████████████████████████████████| 547/547 [8:20:25<00:00, 54.89s/it]\n"
     ]
    }
   ],
   "source": [
    "for i, data in tqdm(enumerate(dataloader, 0), total=len(dataloader)):\n",
    "    latent = model.encoder(data[0].to(model.device))\n",
    "    np.save(f'{OUTPUT_DIR}/latent_klf4_{i}.npy', latent.cpu().detach().numpy())"
   ]
  },
  {
   "cell_type": "code",
   "execution_count": 4,
   "metadata": {},
   "outputs": [],
   "source": [
    "max = 0\n",
    "min = 0\n",
    "\n",
    "for f in glob.glob(f\"{OUTPUT_DIR}/*\"):\n",
    "    latent_klf4 = np.load(f)\n",
    "    max_i = latent_klf4.max()\n",
    "    min_i = latent_klf4.min()\n",
    "\n",
    "    if max_i > max:\n",
    "        max = max_i\n",
    "    if min_i < min:\n",
    "        min = min_i"
   ]
  },
  {
   "cell_type": "code",
   "execution_count": 5,
   "metadata": {},
   "outputs": [
    {
     "name": "stdout",
     "output_type": "stream",
     "text": [
      "74.63506 -66.52526\n"
     ]
    }
   ],
   "source": [
    "print(max, min)"
   ]
  },
  {
   "cell_type": "code",
   "execution_count": null,
   "metadata": {},
   "outputs": [],
   "source": []
  }
 ],
 "metadata": {
  "interpreter": {
   "hash": "259771fb0e24a764efce4fd955c0b099f3a7b4b1af73db6068fac1ad6a526fe6"
  },
  "kernelspec": {
   "display_name": "will py3",
   "language": "python",
   "name": "python3"
  },
  "language_info": {
   "codemirror_mode": {
    "name": "ipython",
    "version": 3
   },
   "file_extension": ".py",
   "mimetype": "text/x-python",
   "name": "python",
   "nbconvert_exporter": "python",
   "pygments_lexer": "ipython3",
   "version": "3.8.10"
  },
  "orig_nbformat": 4
 },
 "nbformat": 4,
 "nbformat_minor": 2
}
